{
 "cells": [
  {
   "cell_type": "markdown",
   "metadata": {},
   "source": [
    "# Classify data\n",
    "---"
   ]
  },
  {
   "cell_type": "code",
   "execution_count": 2,
   "metadata": {},
   "outputs": [],
   "source": [
    "import numpy as np\n",
    "import random"
   ]
  },
  {
   "cell_type": "code",
   "execution_count": 3,
   "metadata": {},
   "outputs": [],
   "source": [
    "small_mix = \"000,004,006,009,010,011,014,015,016,018,021,022,026,029,033,034,036,039,040,041,046,051,052,054,057,059,061,062,065,066,071,075,076,082,083,085,086,087,095,096,097,098,100,104,105,108,111,113,115,116,117,118,119,122,123,126,128,131,132,136,138,140,142,144,147,148,150,151,153,154,156,157,158,159,160,163,166,167,168,169,171,174,175,176,177,198,201,203,204,207,208\"\n",
    "big_mix = \"008,012,030,047,055,067,073,078,092,102,107,109,139,149,172,178,179,181,186,189,192,197,199,202\"\n",
    "big_black = \"024,025,028,042,056,070,079,088,114,135\"\n",
    "small_black = \"001,002,003,007,013,017,019,027,031,032,035,038,043,044,045,048,050,053,064,068,072,077,080,089,090,091,094,099,101,103,106,110,121,124,127,129,130,133,146,162,164,170,173,185,187,196\"\n",
    "\n",
    "hard_mix = \"020,023,049,063,081,120,156,191,209\""
   ]
  },
  {
   "cell_type": "code",
   "execution_count": 4,
   "metadata": {},
   "outputs": [
    {
     "ename": "NameError",
     "evalue": "name 'smallMix' is not defined",
     "output_type": "error",
     "traceback": [
      "\u001b[0;31m---------------------------------------------------------------------------\u001b[0m",
      "\u001b[0;31mNameError\u001b[0m                                 Traceback (most recent call last)",
      "\u001b[0;32m<ipython-input-4-777ed8ec178e>\u001b[0m in \u001b[0;36m<module>\u001b[0;34m\u001b[0m\n\u001b[0;32m----> 1\u001b[0;31m \u001b[0mrandom\u001b[0m\u001b[0;34m.\u001b[0m\u001b[0mshuffle\u001b[0m\u001b[0;34m(\u001b[0m\u001b[0msmallMix\u001b[0m\u001b[0;34m)\u001b[0m\u001b[0;34m\u001b[0m\u001b[0;34m\u001b[0m\u001b[0m\n\u001b[0m\u001b[1;32m      2\u001b[0m \u001b[0mrandom\u001b[0m\u001b[0;34m.\u001b[0m\u001b[0mshuffle\u001b[0m\u001b[0;34m(\u001b[0m\u001b[0mbigMix\u001b[0m\u001b[0;34m)\u001b[0m\u001b[0;34m\u001b[0m\u001b[0;34m\u001b[0m\u001b[0m\n\u001b[1;32m      3\u001b[0m \u001b[0mrandom\u001b[0m\u001b[0;34m.\u001b[0m\u001b[0mshuffle\u001b[0m\u001b[0;34m(\u001b[0m\u001b[0mbigBlack\u001b[0m\u001b[0;34m)\u001b[0m\u001b[0;34m\u001b[0m\u001b[0;34m\u001b[0m\u001b[0m\n\u001b[1;32m      4\u001b[0m \u001b[0mrandom\u001b[0m\u001b[0;34m.\u001b[0m\u001b[0mshuffle\u001b[0m\u001b[0;34m(\u001b[0m\u001b[0msmallBlack\u001b[0m\u001b[0;34m)\u001b[0m\u001b[0;34m\u001b[0m\u001b[0;34m\u001b[0m\u001b[0m\n\u001b[1;32m      5\u001b[0m \u001b[0mrandom\u001b[0m\u001b[0;34m.\u001b[0m\u001b[0mshuffle\u001b[0m\u001b[0;34m(\u001b[0m\u001b[0mhardMix\u001b[0m\u001b[0;34m)\u001b[0m\u001b[0;34m\u001b[0m\u001b[0;34m\u001b[0m\u001b[0m\n",
      "\u001b[0;31mNameError\u001b[0m: name 'smallMix' is not defined"
     ]
    }
   ],
   "source": [
    "random.shuffle(smallMix)\n",
    "random.shuffle(bigMix)\n",
    "random.shuffle(bigBlack)\n",
    "random.shuffle(smallBlack)\n",
    "random.shuffle(hardMix)"
   ]
  },
  {
   "cell_type": "code",
   "execution_count": null,
   "metadata": {},
   "outputs": [],
   "source": [
    "true_small_mix = \"000,006,014,016,041,052,059,071,075,082,087,095,096,097,100,115,117,118,122,128,131,132,140,142,147,159,160,163,167,169,177,203,204\"\n",
    "small_white=\"004,009,010,011,018,022,034,036,051,061,062,065,066,083,111,123,138,148,153,168,174,175,176,198\"\n",
    "big_mix = \"008,012,030,047,055,067,073,078,092,102,107,108,109,139,149,157,172,178,179,181,186,189,192,197,199,202\"\n",
    "big_black = \"024,025,028,029,042,056,070,079,088,113,114,116,135,166,171\"\n",
    "small_black = \"001,002,003,007,013,017,019,027,031,032,033,035,038,039,040,043,044,045,048,049,050,053,064,068,072,076,077,080,085,086,089,090,091,094,099,101,103,104,105,106,110,121,124,126,127,129,130,133,136,144,146,151,158,162,164,170,173,185,187,196,201,207\"\n",
    "\n",
    "hard_mix = \"020,023,049,054,063,081,120,156,191,209,057,098,150,057,098,150\"\n",
    "mix_with_black = \"015,026,058,060,069,074,082,084,093,102,112,119,124,125,134,137,141,145,152,155,156,161,178,182,183,190,195,200\"\n",
    "special = \"165,194,206,041,205,184,005,015,154,037,021,188,193,143,208,180,046\""
   ]
  },
  {
   "cell_type": "code",
   "execution_count": null,
   "metadata": {},
   "outputs": [],
   "source": [
    "a = len(true_small_mix.split(\",\"))\n",
    "b = len(small_white.split(\",\"))\n",
    "c = len(big_mix.split(\",\"))\n",
    "d = len(big_black.split(\",\"))\n",
    "e = len(small_black.split(\",\"))\n",
    "f = len(hard_mix.split(\",\"))\n",
    "g = len(mix_with_black.split(\",\"))\n",
    "h = len(special.split(\",\"))\n",
    "print(b)\n",
    "print(a+b+c+d+e+f+g+h)"
   ]
  },
  {
   "cell_type": "code",
   "execution_count": null,
   "metadata": {},
   "outputs": [],
   "source": [
    "a = true_small_mix.split(\",\")\n",
    "b = small_white.split(\",\")\n",
    "c = big_mix.split(\",\")\n",
    "d = big_black.split(\",\")\n",
    "e = small_black.split(\",\")\n",
    "f = hard_mix.split(\",\")\n",
    "g = mix_with_black.split(\",\")\n",
    "h = special.split(\",\")\n",
    "\n",
    "print(sorted(a+b+c+d+e+f+g+h))\n",
    "print(len(sorted(a+b+c+d+e+f+g+h)))\n",
    "ss = sorted(a+b+c+d+e+f+g+h)\n",
    "\n",
    "trueSmallMix = true_small_mix.split(\",\")\n",
    "smallWhite = small_white.split(\",\")\n",
    "bigMix = big_mix.split(\",\")\n",
    "bigBlack = big_black.split(\",\")\n",
    "smallBlack = small_black.split(\",\")\n",
    "hardMix = hard_mix.split(\",\")\n",
    "mixWithBlack = mix_with_black.split(\",\")\n",
    "specialOne = special.split(\",\")\n",
    "ignorePatient = [\"005\",\"151\",\"165\",\"194\"]\n",
    "\n",
    "#['015', '041', '049', '082', '102', '124', '156', '178']\n",
    "loss = []\n",
    "count = []\n",
    "overlap = []\n",
    "ignorePatient = [\"005\",\"151\",\"165\",\"194\"]\n",
    "for x in range(210):\n",
    "    ss.count(str(x).zfill(3))\n",
    "for x in range(210):\n",
    "#     if str(x).zfill(3) in ignorePatient:\n",
    "#         continue\n",
    "        \n",
    "    cnt = 0\n",
    "    cnt += a.count(str(x).zfill(3))\n",
    "    cnt += b.count(str(x).zfill(3))\n",
    "    cnt += c.count(str(x).zfill(3))\n",
    "    cnt += d.count(str(x).zfill(3))\n",
    "    cnt += e.count(str(x).zfill(3))\n",
    "    cnt += f.count(str(x).zfill(3))\n",
    "    cnt += g.count(str(x).zfill(3))\n",
    "    cnt += h.count(str(x).zfill(3))\n",
    "    \n",
    "    if cnt == 0:\n",
    "        loss.append(str(x).zfill(3))\n",
    "    \n",
    "    if cnt>1:\n",
    "        overlap.append(str(x).zfill(3))\n",
    "        \n",
    "    count.append(cnt)\n",
    "print(overlap)\n",
    "print(loss)\n",
    "print(np.where(np.array(count)>0, True, False).sum())\n",
    "print(count)"
   ]
  },
  {
   "cell_type": "code",
   "execution_count": 2,
   "metadata": {},
   "outputs": [],
   "source": [
    "import pandas as pd\n",
    "import SimpleITK as sitk\n",
    "import os\n",
    "import numpy as np"
   ]
  },
  {
   "cell_type": "code",
   "execution_count": 3,
   "metadata": {},
   "outputs": [],
   "source": [
    "ignorePatient = [5,151,165,194]"
   ]
  },
  {
   "cell_type": "code",
   "execution_count": 115,
   "metadata": {},
   "outputs": [],
   "source": [
    "#df = pd.DataFrame(columns = [\"id\", \"slice number\", \"tag\", \"mean\", \"std\", \"var\", \"max\", \"min\"])\n",
    "df = pd.DataFrame(columns = [\"id\", \"slice number\", \"tag\"])\n",
    "df.set_index([\"id\", \"slice number\", \"tag\"], inplace=True)\n",
    "# df.loc[(0,0,\"s\"), \"a\"] = 100\n",
    "# df.loc[(0,1,\"a\"), \"a\"] = 200\n",
    "# df.loc[(0,1,\"s\"), \"a\"] = 300\n",
    "# df.loc[(0,2,\"s\"), \"a\"] = 400\n",
    "# df.loc[(0,2,\"a\"), \"a\"] = 500\n",
    "print(df)"
   ]
  },
  {
   "cell_type": "code",
   "execution_count": 115,
   "metadata": {},
   "outputs": [
    {
     "name": "stdout",
     "output_type": "stream",
     "text": [
      "Empty DataFrame\n",
      "Columns: [id, slice number, tag]\n",
      "Index: []\n"
     ]
    }
   ],
   "source": []
  },
  {
   "cell_type": "code",
   "execution_count": 166,
   "metadata": {},
   "outputs": [
    {
     "name": "stdout",
     "output_type": "stream",
     "text": [
      "Empty DataFrame\n",
      "Columns: []\n",
      "Index: [0, 1, 2, 3, 4, 5, 6, 7, 8, 9, 10, 11, 12, 13, 14, 15, 16, 17, 18, 19, 20, 21, 22, 23, 24, 25, 26, 27, 28, 29, 30, 31, 32, 33, 34, 35, 36, 37, 38, 39, 40, 41, 42, 43, 44, 45, 46, 47, 48, 49, 50, 51, 52, 53, 54, 55, 56, 57, 58, 59, 60, 61, 62, 63, 64, 65, 66, 67, 68, 69, 70, 71, 72, 73, 74, 75, 76, 77, 78, 79, 80, 81, 82, 83, 84, 85, 86, 87, 88, 89, 90, 91, 92, 93, 94, 95, 96, 97, 98, 99, ...]\n",
      "\n",
      "[214668 rows x 0 columns]\n"
     ]
    }
   ],
   "source": [
    "sliceNumbers = 0\n",
    "for x in range(210):\n",
    "    if x in ignorePatient:\n",
    "        continue\n",
    "        \n",
    "    imagePath = os.path.join(\"E:/kits19/data/case_00\" + str(x).zfill(3), \"imaging.nii.gz\")\n",
    "    labelPath = os.path.join(\"E:/kits19/data/case_00\" + str(x).zfill(3), \"segmentation.nii.gz\")\n",
    "    image = sitk.ReadImage(imagePath)\n",
    "    label = sitk.ReadImage(labelPath)\n",
    "    imageArray = sitk.GetArrayFromImage(image)\n",
    "    labelArray = sitk.GetArrayFromImage(label)\n",
    "    \n",
    "    sliceNumbers += len(labelArray[:,0,0])\n",
    "    \n",
    "    \n",
    "df = pd.DataFrame(index=range(sliceNumbers*2))\n",
    "print(df)"
   ]
  },
  {
   "cell_type": "code",
   "execution_count": 169,
   "metadata": {},
   "outputs": [
    {
     "name": "stdout",
     "output_type": "stream",
     "text": [
      "         id  slice number     tag  Mean  Std  Var  Max  Min\n",
      "0         0             0  kidney   NaN  NaN  NaN  NaN  NaN\n",
      "1         0             1  kidney   NaN  NaN  NaN  NaN  NaN\n",
      "2         0             2  kidney   NaN  NaN  NaN  NaN  NaN\n",
      "3         0             3  kidney   NaN  NaN  NaN  NaN  NaN\n",
      "4         0             4  kidney   NaN  NaN  NaN  NaN  NaN\n",
      "...     ...           ...     ...   ...  ...  ...  ...  ...\n",
      "214663  209           506  cancer   NaN  NaN  NaN  NaN  NaN\n",
      "214664  209           507  cancer   NaN  NaN  NaN  NaN  NaN\n",
      "214665  209           508  cancer   NaN  NaN  NaN  NaN  NaN\n",
      "214666  209           509  cancer   NaN  NaN  NaN  NaN  NaN\n",
      "214667  209           510  cancer   NaN  NaN  NaN  NaN  NaN\n",
      "\n",
      "[214668 rows x 8 columns]\n",
      "                         Mean  Std  Var  Max  Min\n",
      "id  slice number tag                             \n",
      "0   0            kidney   NaN  NaN  NaN  NaN  NaN\n",
      "    1            kidney   NaN  NaN  NaN  NaN  NaN\n",
      "    2            kidney   NaN  NaN  NaN  NaN  NaN\n",
      "    3            kidney   NaN  NaN  NaN  NaN  NaN\n",
      "    4            kidney   NaN  NaN  NaN  NaN  NaN\n",
      "...                       ...  ...  ...  ...  ...\n",
      "209 506          cancer   NaN  NaN  NaN  NaN  NaN\n",
      "    507          cancer   NaN  NaN  NaN  NaN  NaN\n",
      "    508          cancer   NaN  NaN  NaN  NaN  NaN\n",
      "    509          cancer   NaN  NaN  NaN  NaN  NaN\n",
      "    510          cancer   NaN  NaN  NaN  NaN  NaN\n",
      "\n",
      "[214668 rows x 5 columns]\n"
     ]
    }
   ],
   "source": [
    "kidID = []\n",
    "kidsNumber = []\n",
    "kidTag = []\n",
    "kidMean = []\n",
    "kidStd = []\n",
    "kidVar = []\n",
    "kidMax = []\n",
    "kidMin = []\n",
    "\n",
    "canID = []\n",
    "cansNumber = []\n",
    "canTag = []\n",
    "canMean = []\n",
    "canStd = []\n",
    "canVar = []\n",
    "canMax = []\n",
    "canMin = []\n",
    "\n",
    "for x in range(210):\n",
    "    \n",
    "    if x in ignorePatient:\n",
    "        continue\n",
    "        \n",
    "    imagePath = os.path.join(\"E:/kits19/data/case_00\" + str(x).zfill(3), \"imaging.nii.gz\")\n",
    "    labelPath = os.path.join(\"E:/kits19/data/case_00\" + str(x).zfill(3), \"segmentation.nii.gz\")\n",
    "    image = sitk.ReadImage(imagePath)\n",
    "    label = sitk.ReadImage(labelPath)\n",
    "    imageArray = sitk.GetArrayFromImage(image)\n",
    "    labelArray = sitk.GetArrayFromImage(label)\n",
    "    \n",
    "    sliceNumber = len(labelArray[:,0,0])\n",
    "    \n",
    "    for y in range(sliceNumber):\n",
    "        imgArray = imageArray[y,:,:]\n",
    "        labArray = labelArray[y,:,:]\n",
    "        \n",
    "        kidIndex = np.where(labArray==1)\n",
    "        canIndex = np.where(labArray==2)\n",
    "        \n",
    "        if kidIndex[0].size!=0:\n",
    "            kidImgArray = imgArray[kidIndex]\n",
    "            kidMean.append(kidImgArray.mean())\n",
    "            kidStd.append(kidImgArray.std())\n",
    "            kidVar.append(kidImgArray.var())\n",
    "            kidMax.append(kidImgArray.max())\n",
    "            kidMin.append(kidImgArray.min())\n",
    "        else:\n",
    "            kidMean.append(None)\n",
    "            kidStd.append(None)\n",
    "            kidVar.append(None)\n",
    "            kidMax.append(None)\n",
    "            kidMin.append(None)\n",
    "        \n",
    "        if canIndex[0].size!=0:\n",
    "            canImgArray = imgArray[canIndex]\n",
    "            canMean.append(canImgArray.mean())\n",
    "            canStd.append(canImgArray.std())\n",
    "            canVar.append(canImgArray.var())\n",
    "            canMax.append(canImgArray.max())\n",
    "            canMin.append(canImgArray.min())\n",
    "        \n",
    "        else:\n",
    "            canMean.append(None)\n",
    "            canStd.append(None)\n",
    "            canVar.append(None)\n",
    "            canMax.append(None)\n",
    "            canMin.append(None)\n",
    "            \n",
    "        kidID.append(x)\n",
    "        kidsNumber.append(y)\n",
    "        \n",
    "        canID.append(x)\n",
    "        cansNumber.append(y)\n",
    "        \n",
    "        kidTag.append(\"kidney\")\n",
    "        canTag.append(\"cancer\")\n",
    "    \n",
    "ID = kidID + canID\n",
    "sNumber = kidsNumber + cansNumber\n",
    "Tag = kidTag + canTag\n",
    "Mean = kidMean + canMean\n",
    "Std = kidStd + canStd\n",
    "Var = kidVar + canVar\n",
    "Max = kidMax + canMax\n",
    "Min = kidMax + canMin\n",
    "\n",
    "df[\"id\"] = ID\n",
    "df[\"slice number\"] = sNumber\n",
    "df[\"tag\"] = Tag\n",
    "df[\"Mean\"] = Mean\n",
    "df[\"Std\"] = Std\n",
    "df[\"Var\"] = Var\n",
    "df[\"Max\"] = Max\n",
    "df[\"Min\"] = Min\n",
    "\n",
    "\n",
    "print(df)\n",
    "df.set_index([\"id\", \"slice number\", \"tag\"], inplace=True)\n",
    "print(df)\n",
    "df.to_csv('sagital1.csv', sep=',', index=True, index_label = [\"id\", \"slice number\", \"tag\"])"
   ]
  },
  {
   "cell_type": "code",
   "execution_count": 3,
   "metadata": {},
   "outputs": [
    {
     "name": "stdout",
     "output_type": "stream",
     "text": [
      "         id  slice number     tag  Mean  Std  Var  Max  Min  Size\n",
      "0         0             0  kidney   NaN  NaN  NaN  NaN  NaN     0\n",
      "1         0             1  kidney   NaN  NaN  NaN  NaN  NaN     0\n",
      "2         0             2  kidney   NaN  NaN  NaN  NaN  NaN     0\n",
      "3         0             3  kidney   NaN  NaN  NaN  NaN  NaN     0\n",
      "4         0             4  kidney   NaN  NaN  NaN  NaN  NaN     0\n",
      "...     ...           ...     ...   ...  ...  ...  ...  ...   ...\n",
      "214663  209           506  cancer   NaN  NaN  NaN  NaN  NaN     0\n",
      "214664  209           507  cancer   NaN  NaN  NaN  NaN  NaN     0\n",
      "214665  209           508  cancer   NaN  NaN  NaN  NaN  NaN     0\n",
      "214666  209           509  cancer   NaN  NaN  NaN  NaN  NaN     0\n",
      "214667  209           510  cancer   NaN  NaN  NaN  NaN  NaN     0\n",
      "\n",
      "[214668 rows x 9 columns]\n",
      "         id  slice number     tag        Mean        Std          Var  \\\n",
      "162       0           162  kidney  -37.253151   9.672718    93.561468   \n",
      "163       0           163  kidney   37.572537  49.860718  2486.091249   \n",
      "164       0           164  kidney   85.865282  86.790756  7532.635240   \n",
      "165       0           165  kidney   99.003225  94.184951  8870.804999   \n",
      "166       0           166  kidney  129.435100  84.773216  7186.498072   \n",
      "...     ...           ...     ...         ...        ...          ...   \n",
      "214501  209           344  cancer   62.450544  56.845241  3231.381426   \n",
      "214502  209           345  cancer   75.063078  58.664732  3441.550823   \n",
      "214503  209           346  cancer   89.271236  35.083031  1230.819048   \n",
      "214504  209           347  cancer   77.540750  10.665388   113.750498   \n",
      "214505  209           348  cancer   73.605345   9.064534    82.165778   \n",
      "\n",
      "               Max         Min  Size  \n",
      "162     -11.861316  -11.861316    22  \n",
      "163     127.743541  127.743541    83  \n",
      "164     216.219592  216.219592   147  \n",
      "165     241.380014  241.380014   247  \n",
      "166     251.062135  251.062135   333  \n",
      "...            ...         ...   ...  \n",
      "214501  164.676004  -38.124546    30  \n",
      "214502  149.446267  -36.123501    22  \n",
      "214503  151.692211   26.759063    12  \n",
      "214504   90.108306   58.254014     7  \n",
      "214505   81.203599   60.864822     3  \n",
      "\n",
      "[52510 rows x 9 columns]\n"
     ]
    }
   ],
   "source": []
  },
  {
   "cell_type": "code",
   "execution_count": 185,
   "metadata": {},
   "outputs": [],
   "source": [
    "df = pd.read_csv(\"sagital.csv\")\n",
    "kidSize = []\n",
    "canSize = []\n",
    "\n",
    "for x in range(210):\n",
    "    \n",
    "    if x in ignorePatient:\n",
    "        continue\n",
    "        \n",
    "    imagePath = os.path.join(\"E:/kits19/data/case_00\" + str(x).zfill(3), \"imaging.nii.gz\")\n",
    "    labelPath = os.path.join(\"E:/kits19/data/case_00\" + str(x).zfill(3), \"segmentation.nii.gz\")\n",
    "    image = sitk.ReadImage(imagePath)\n",
    "    label = sitk.ReadImage(labelPath)\n",
    "    imageArray = sitk.GetArrayFromImage(image)\n",
    "    labelArray = sitk.GetArrayFromImage(label)\n",
    "    \n",
    "    sliceNumber = len(labelArray[:,0,0])\n",
    "    \n",
    "    for y in range(sliceNumber):\n",
    "        imgArray = imageArray[y,:,:]\n",
    "        labArray = labelArray[y,:,:]\n",
    "        \n",
    "        kSize = np.where(labArray==1, True, False).sum()\n",
    "        cSize = np.where(labArray==2, True, False).sum()\n",
    "        \n",
    "        kidSize.append(kSize)\n",
    "        canSize.append(cSize)\n",
    "        \n",
    "\n",
    "df[\"Size\"] = kidSize + canSize\n",
    "\n",
    "\n",
    "print(df)\n",
    "df.set_index([\"id\", \"slice number\", \"tag\"], inplace=True)\n",
    "print(df)\n",
    "df.to_csv('sagital2.csv', sep=',', index=True, index_label = [\"id\", \"slice number\", \"tag\"])"
   ]
  },
  {
   "cell_type": "code",
   "execution_count": 2,
   "metadata": {},
   "outputs": [],
   "source": [
    "from matplotlib import pyplot as plt\n",
    "from matplotlib.colors import ListedColormap\n",
    "import pandas as pd\n",
    "import SimpleITK as sitk\n",
    "import os\n",
    "import numpy as np"
   ]
  },
  {
   "cell_type": "code",
   "execution_count": 3,
   "metadata": {},
   "outputs": [],
   "source": [
    "true_small_mix = \"000,006,014,016,041,052,059,071,075,082,087,095,096,097,100,115,117,118,122,128,131,132,140,142,147,159,160,163,167,169,177,203,204\"\n",
    "small_white=\"004,009,010,011,018,022,034,036,051,061,062,065,066,083,111,123,138,148,153,168,174,175,176,198\"\n",
    "big_mix = \"008,012,030,047,055,067,073,078,092,102,107,108,109,139,149,157,172,178,179,181,186,189,192,197,199,202\"\n",
    "big_black = \"024,025,028,029,042,056,070,079,088,113,114,116,135,166,171\"\n",
    "small_black = \"001,002,003,007,013,017,019,027,031,032,033,035,038,039,040,043,044,045,048,050,053,064,068,072,076,077,080,085,086,089,090,091,094,099,101,103,104,105,106,110,121,124,126,127,129,130,133,136,144,146,151,158,162,164,170,173,185,187,196,201,207\"\n",
    "\n",
    "hard_mix = \"020,023,049,054,063,081,120,191,209,057,098,150\"\n",
    "mix_with_black = \"015,026,058,060,069,074,084,093,112,119,125,134,137,141,145,152,155,156,161,182,183,190,195,200\"\n",
    "special = \"165,194,206,205,184,005,154,037,021,188,193,143,208,180,046\"\n",
    "\n",
    "trueSmallMix = true_small_mix.split(\",\")\n",
    "smallWhite = small_white.split(\",\")\n",
    "bigMix = big_mix.split(\",\")\n",
    "bigBlack = big_black.split(\",\")\n",
    "smallBlack = small_black.split(\",\")\n",
    "hardMix = hard_mix.split(\",\")\n",
    "mixWithBlack = mix_with_black.split(\",\")\n",
    "specialOne = special.split(\",\")\n",
    "ignorePatient = [\"005\",\"151\",\"165\",\"194\"]"
   ]
  },
  {
   "cell_type": "code",
   "execution_count": 4,
   "metadata": {},
   "outputs": [
    {
     "name": "stdout",
     "output_type": "stream",
     "text": [
      "       Unnamed: 0   id  slice number     tag        Mean        Std  \\\n",
      "0             162    0           162  kidney  -37.253151   9.672718   \n",
      "1             163    0           163  kidney   37.572537  49.860718   \n",
      "2             164    0           164  kidney   85.865282  86.790756   \n",
      "3             165    0           165  kidney   99.003225  94.184951   \n",
      "4             166    0           166  kidney  129.435100  84.773216   \n",
      "...           ...  ...           ...     ...         ...        ...   \n",
      "52505      214501  209           344  cancer   62.450544  56.845241   \n",
      "52506      214502  209           345  cancer   75.063078  58.664732   \n",
      "52507      214503  209           346  cancer   89.271236  35.083031   \n",
      "52508      214504  209           347  cancer   77.540750  10.665388   \n",
      "52509      214505  209           348  cancer   73.605345   9.064534   \n",
      "\n",
      "               Var         Max         Min  Size  \n",
      "0        93.561468  -11.861316  -11.861316    22  \n",
      "1      2486.091249  127.743541  127.743541    83  \n",
      "2      7532.635240  216.219592  216.219592   147  \n",
      "3      8870.804999  241.380014  241.380014   247  \n",
      "4      7186.498072  251.062135  251.062135   333  \n",
      "...            ...         ...         ...   ...  \n",
      "52505  3231.381426  164.676004  -38.124546    30  \n",
      "52506  3441.550823  149.446267  -36.123501    22  \n",
      "52507  1230.819048  151.692211   26.759063    12  \n",
      "52508   113.750498   90.108306   58.254014     7  \n",
      "52509    82.165778   81.203599   60.864822     3  \n",
      "\n",
      "[52510 rows x 10 columns]\n"
     ]
    }
   ],
   "source": [
    "df = pd.read_csv(\"dfAboutKidneyAndCancer.csv\")\n",
    "print(df)"
   ]
  },
  {
   "cell_type": "code",
   "execution_count": 5,
   "metadata": {},
   "outputs": [],
   "source": [
    "colors = [\"red\", \"blue\", \"yellow\", \"green\", \"black\", \"gray\", \"pink\", \"skyblue\"]\n",
    "c = []\n",
    "for x in range(210):\n",
    "    sx = str(x).zfill(3)\n",
    "    if sx in ignorePatient:\n",
    "        continue\n",
    "    if sx in trueSmallMix:#red\n",
    "        c.append(0)\n",
    "    if sx in smallWhite:#blue\n",
    "        c.append(1)\n",
    "    if sx in bigMix:#yellow\n",
    "        c.append(2)\n",
    "    if sx in bigBlack:#green\n",
    "        c.append(3)\n",
    "    if sx in smallBlack:#black\n",
    "        c.append(4)\n",
    "    if sx in hardMix:#\"gray\"\n",
    "        c.append(5)\n",
    "    if sx in mixWithBlack:#\"pink\"\n",
    "        c.append(6)\n",
    "    if sx in specialOne:#\"skyblue\"\n",
    "        c.append(7)"
   ]
  },
  {
   "cell_type": "code",
   "execution_count": 6,
   "metadata": {},
   "outputs": [],
   "source": [
    "cmap = ListedColormap(colors)"
   ]
  },
  {
   "cell_type": "code",
   "execution_count": 7,
   "metadata": {},
   "outputs": [
    {
     "name": "stdout",
     "output_type": "stream",
     "text": [
      "<class 'pandas.core.frame.DataFrame'>\n",
      "Int64Index: 206 entries, 0 to 209\n",
      "Data columns (total 2 columns):\n",
      "id      206 non-null int64\n",
      "Mean    206 non-null float64\n",
      "dtypes: float64(1), int64(1)\n",
      "memory usage: 4.8 KB\n",
      "None\n"
     ]
    },
    {
     "data": {
      "text/html": [
       "<div>\n",
       "<style scoped>\n",
       "    .dataframe tbody tr th:only-of-type {\n",
       "        vertical-align: middle;\n",
       "    }\n",
       "\n",
       "    .dataframe tbody tr th {\n",
       "        vertical-align: top;\n",
       "    }\n",
       "\n",
       "    .dataframe thead th {\n",
       "        text-align: right;\n",
       "    }\n",
       "</style>\n",
       "<table border=\"1\" class=\"dataframe\">\n",
       "  <thead>\n",
       "    <tr style=\"text-align: right;\">\n",
       "      <th></th>\n",
       "      <th>id</th>\n",
       "      <th>Mean</th>\n",
       "      <th>Size</th>\n",
       "    </tr>\n",
       "    <tr>\n",
       "      <th>id</th>\n",
       "      <th></th>\n",
       "      <th></th>\n",
       "      <th></th>\n",
       "    </tr>\n",
       "  </thead>\n",
       "  <tbody>\n",
       "    <tr>\n",
       "      <th>0</th>\n",
       "      <td>0</td>\n",
       "      <td>115.864027</td>\n",
       "      <td>4160</td>\n",
       "    </tr>\n",
       "    <tr>\n",
       "      <th>1</th>\n",
       "      <td>1</td>\n",
       "      <td>61.593494</td>\n",
       "      <td>3980</td>\n",
       "    </tr>\n",
       "    <tr>\n",
       "      <th>2</th>\n",
       "      <td>2</td>\n",
       "      <td>44.756910</td>\n",
       "      <td>18957</td>\n",
       "    </tr>\n",
       "    <tr>\n",
       "      <th>3</th>\n",
       "      <td>3</td>\n",
       "      <td>73.913018</td>\n",
       "      <td>5562</td>\n",
       "    </tr>\n",
       "    <tr>\n",
       "      <th>4</th>\n",
       "      <td>4</td>\n",
       "      <td>66.122565</td>\n",
       "      <td>10301</td>\n",
       "    </tr>\n",
       "  </tbody>\n",
       "</table>\n",
       "</div>"
      ],
      "text/plain": [
       "    id        Mean   Size\n",
       "id                       \n",
       "0    0  115.864027   4160\n",
       "1    1   61.593494   3980\n",
       "2    2   44.756910  18957\n",
       "3    3   73.913018   5562\n",
       "4    4   66.122565  10301"
      ]
     },
     "execution_count": 7,
     "metadata": {},
     "output_type": "execute_result"
    }
   ],
   "source": [
    "df_q = df.query(\"tag=='cancer'\")\n",
    "canGroup = df_q.groupby(\"id\")\n",
    "\n",
    "#canGroup = df.groupby(\"id\").apply(\"tag=='cancer'\")\n",
    "dff = canGroup[(\"id\",\"Mean\")].mean()\n",
    "s = canGroup[\"Size\"].sum().sort_values()\n",
    "print(dff.info())\n",
    "dff = pd.concat([dff, s], axis=1)\n",
    "dff.head()"
   ]
  },
  {
   "cell_type": "code",
   "execution_count": 8,
   "metadata": {},
   "outputs": [
    {
     "name": "stdout",
     "output_type": "stream",
     "text": [
      "[2, 1, 1, 1, 0, 2, 2, 1, 2, 0, 0, 0, 2, 1, 2, 1, 2, 1, 0, 1, 2, 2, 0, 2, 1, 1, 1, 1, 1, 1, 2, 1, 1, 1, 0, 1, 0, 2, 1, 1, 1, 2, 1, 1, 1, 1, 2, 2, 1, 2, 1, 0, 2, 1, 2, 2, 1, 2, 1, 2, 1, 0, 0, 2, 1, 0, 0, 2, 1, 1, 1, 2, 1, 2, 1, 2, 1, 1, 2, 1, 1, 2, 2, 0, 1, 1, 1, 2, 1, 1, 1, 1, 2, 1, 1, 2, 2, 2, 2, 1, 2, 1, 2, 1, 1, 1, 1, 2, 2, 2, 1, 0, 1, 1, 1, 2, 1, 2, 2, 1, 2, 1, 2, 0, 1, 1, 1, 1, 2, 1, 1, 2, 2, 1, 1, 1, 1, 1, 0, 2, 2, 1, 2, 2, 1, 1, 1, 2, 0, 2, 2, 1, 1, 0, 2, 1, 1, 2, 1, 2, 2, 1, 1, 2, 1, 2, 1, 2, 0, 2, 1, 1, 2, 1, 0, 0, 0, 2, 2, 2, 2, 2, 1, 1, 2, 1, 2, 1, 2, 2, 1, 2, 2, 2, 2, 1, 1, 2, 0, 2, 1, 1, 2, 2, 2, 2]\n"
     ]
    }
   ],
   "source": [
    "colors = [\"red\", \"blue\", \"yellow\", \"green\", \"black\", \"gray\", \"pink\", \"skyblue\"]\n",
    "colors = [\"red\", \"blue\", \"yellow\"]\n",
    "c = []\n",
    "for x, ss in enumerate(dff[\"Size\"]):\n",
    "    sx = str(x).zfill(3)\n",
    "#     if sx in ignorePatient:\n",
    "#         continue\n",
    "    if sx in trueSmallMix:#red\n",
    "        c.append(2)\n",
    "    if sx in smallWhite:#blue\n",
    "        c.append(0)\n",
    "    if sx in bigMix:#yellow\n",
    "        c.append(2)\n",
    "    if sx in bigBlack:#green\n",
    "        c.append(1)\n",
    "    if sx in smallBlack:#black\n",
    "        c.append(1)\n",
    "    if sx in hardMix:#\"gray\"\n",
    "        c.append(2)\n",
    "    if sx in mixWithBlack:#\"pink\"\n",
    "        c.append(1)\n",
    "    if sx in specialOne:#\"skyblue\"\n",
    "        c.append(2)\n",
    "cmap = ListedColormap(colors)\n",
    "print(c)"
   ]
  },
  {
   "cell_type": "code",
   "execution_count": 22,
   "metadata": {},
   "outputs": [
    {
     "name": "stdout",
     "output_type": "stream",
     "text": [
      "[4, 2, 1, 2, 3, 2, 1, 3, 4, 4, 3, 3, 3, 4, 4, 5, 4, 4, 0, 4, 1, 4, 4, 3, 3, 3, 2, 1, 3, 3, 2, 2, 4, 5, 1, 5, 0, 1, 2, 2, 5, 1, 4, 1, 3, 1, 3, 3, 2, 2, 3, 2, 1, 2, 3, 1, 3, 3, 4, 3, 3, 2, 2, 2, 2, 3, 1, 1, 5, 1, 4, 2, 3, 3, 2, 2, 4, 3, 3, 1, 2, 4, 0, 3, 2, 3, 3, 3, 3, 3, 3, 3, 0, 0, 1, 4, 5, 5, 1, 4, 2, 1, 0, 3, 3, 0, 3, 3, 5, 3, 5, 3, 1, 1, 4, 5, 3, 3, 3, 4, 2, 3, 4, 2, 2, 3, 0, 4, 2, 3, 5, 2, 1, 1, 3, 2, 0, 2, 1, 4, 2, 5, 3, 3, 1, 0, 3, 3, 3, 2, 2, 2, 2, 0, 2, 3, 4, 3, 3, 5, 3, 3, 2, 3, 4, 5, 3, 3, 3, 3, 0, 2, 2, 1, 5, 3, 3, 3, 3, 4, 3, 3, 1, 3, 3, 2, 3, 3, 2, 3, 0, 3, 1, 1, 4, 3, 3, 4, 5, 2, 3, 2, 3, 0, 2, 2]\n",
      "sw =  ['019', '037', '083', '093', '094', '103', '106', '127', '137', '146', '155', '173', '193', '207']\n",
      "bw =  ['002', '007', '021', '028', '035', '038', '042', '044', '046', '053', '056', '067', '068', '070', '080', '095', '099', '102', '113', '114', '133', '134', '139', '145', '176', '185', '196', '197']\n",
      "sm =  ['001', '003', '006', '027', '031', '032', '039', '040', '049', '050', '052', '054', '062', '063', '064', '065', '072', '075', '076', '081', '085', '101', '121', '124', '125', '129', '132', '136', '138', '141', '150', '152', '153', '154', '156', '164', '174', '175', '188', '191', '203', '205', '208', '209']\n",
      "bm =  ['004', '008', '011', '012', '013', '024', '025', '026', '029', '030', '045', '047', '048', '051', '055', '057', '058', '060', '061', '066', '073', '074', '078', '079', '084', '086', '087', '088', '089', '090', '091', '092', '104', '105', '107', '108', '110', '112', '117', '118', '119', '122', '126', '130', '135', '143', '144', '147', '148', '149', '157', '159', '160', '162', '163', '166', '169', '170', '171', '172', '178', '179', '180', '181', '183', '184', '186', '187', '189', '190', '192', '195', '199', '200', '204', '206']\n",
      "sb =  ['000', '009', '010', '014', '015', '017', '018', '020', '022', '023', '033', '043', '059', '071', '077', '082', '096', '100', '115', '120', '123', '128', '140', '158', '167', '182', '198', '201']\n",
      "bb =  ['016', '034', '036', '041', '069', '097', '098', '109', '111', '116', '131', '142', '161', '168', '177', '202']\n",
      "206\n"
     ]
    }
   ],
   "source": [
    "colors = [\"red\", \"pink\", \"blue\", \"skyblue\", \"darkgreen\"]\n",
    "c = []\n",
    "sw = []\n",
    "bw = []\n",
    "sm = []\n",
    "bm = []\n",
    "sb = []\n",
    "bb = []\n",
    "for i, mm, (x, ss) in zip(dff[\"id\"],dff[\"Mean\"], enumerate(dff[\"Size\"])):\n",
    "    sx = str(int(i)).zfill(3)\n",
    "#     if sx in ignorePatient:\n",
    "#         continue\n",
    "    \n",
    "    if mm<50:\n",
    "        if ss<10000:\n",
    "            c.append(0)\n",
    "            sw.append(sx)\n",
    "        else:\n",
    "            c.append(1)\n",
    "            bw.append(sx)\n",
    "    \n",
    "    elif mm<100:\n",
    "        if ss<10000:\n",
    "            c.append(2)\n",
    "            sm.append(sx)\n",
    "        else:\n",
    "            c.append(3)\n",
    "            bm.append(sx)\n",
    "    else:\n",
    "        if ss<10000:\n",
    "            c.append(4)\n",
    "            sb.append(sx)\n",
    "        else:\n",
    "            c.append(5)\n",
    "            bb.append(sx)\n",
    "\n",
    "cmap = ListedColormap(colors)\n",
    "print(c)\n",
    "print(\"sw = \", sw)\n",
    "print(\"bw = \", bw)\n",
    "print(\"sm = \", sm)\n",
    "print(\"bm = \", bm)\n",
    "print(\"sb = \", sb)\n",
    "print(\"bb = \", bb)\n",
    "print(len(sw)+len(bw)+len(bm)+len(sm)+len(sb)+len(bb))"
   ]
  },
  {
   "cell_type": "code",
   "execution_count": 23,
   "metadata": {},
   "outputs": [
    {
     "data": {
      "text/plain": [
       "array([[<matplotlib.axes._subplots.AxesSubplot object at 0x126a46590>,\n",
       "        <matplotlib.axes._subplots.AxesSubplot object at 0x127597610>],\n",
       "       [<matplotlib.axes._subplots.AxesSubplot object at 0x129da2710>,\n",
       "        <matplotlib.axes._subplots.AxesSubplot object at 0x127bbcb10>]],\n",
       "      dtype=object)"
      ]
     },
     "execution_count": 23,
     "metadata": {},
     "output_type": "execute_result"
    },
    {
     "data": {
      "image/png": "[encoded data removed]",
      "text/plain": [
       "<Figure size 1800x720 with 3 Axes>"
      ]
     },
     "metadata": {
      "needs_background": "light"
     },
     "output_type": "display_data"
    },
    {
     "data": {
      "image/png": "[encoded data removed]",
      "text/plain": [
       "<Figure size 432x288 with 4 Axes>"
      ]
     },
     "metadata": {
      "needs_background": "light"
     },
     "output_type": "display_data"
    }
   ],
   "source": [
    "fig, axes = plt.subplots(1, 2, figsize=(25, 10), sharey=True)\n",
    "\n",
    "# 1.普通のプロット\n",
    "\n",
    "dff.plot(x='Size', y='Mean', kind='scatter', ax=axes.flatten()[0])\n",
    "dff.plot(x='Size', y='Mean', kind='scatter', ax=axes.flatten()[1], c=c, cmap=cmap)\n",
    "dff.hist()\n",
    "# for x, y in dff.iterrows():\n",
    "#     axes[1].annotate(int(y[0]), xy=(y[1],y[0]), size=2)\n",
    "# # 2.離散値を色で表す\n",
    "# df[0:150].plot(x='ad', y='ba', kind='scatter', c='ef', cmap='Blues', ax=axes.flatten()[1])\n",
    "# # 3.離散値をバブルサイズで表す（ちょっと数は減らしてる）\n",
    "# df[0:150].plot.scatter(x='ad', y='ba', s=(df['su']-20)*3, ax=axes.flatten()[2])\n",
    "# # 4.両方同時に使う\n",
    "#df[0:150].plot.scatter(x='ad', y='ba', s=(df['su']-20)*3, c='ef', ax=axes.flatten()[3])"
   ]
  },
  {
   "cell_type": "markdown",
   "metadata": {},
   "source": [
    "# Make random dataset\n",
    "---"
   ]
  },
  {
   "cell_type": "code",
   "execution_count": 3,
   "metadata": {},
   "outputs": [],
   "source": [
    "import numpy as np\n",
    "import random"
   ]
  },
  {
   "cell_type": "code",
   "execution_count": 7,
   "metadata": {},
   "outputs": [],
   "source": [
    "sw =  ['002', '007', '019', '021', '028', '035', '037', '038', '044', '046', '053', '068', '080', '083', '093', '094', '095', '099', '103', '106', '113', '127', '133', '134', '137', '145', '146', '155', '173', '176', '185', '193', '196', '197', '207']\n",
    "bw =  ['042', '056', '067', '070', '102', '114', '139']\n",
    "sm =  ['001', '003', '004', '006', '011', '012', '013', '024', '026', '027', '029', '031', '032', '039', '040', '045', '047', '048', '049', '050', '051', '052', '054', '057', '058', '060', '061', '062', '063', '064', '065', '066', '072', '074', '075', '076', '081', '084', '085', '086', '087', '089', '090', '091', '101', '104', '105', '108', '110', '112', '117', '118', '119', '121', '122', '124', '125', '126', '129', '130', '132', '136', '138', '141', '143', '144', '147', '148', '149', '150', '152', '153', '154', '156', '157', '159', '160', '162', '163', '164', '166', '169', '170', '171', '174', '175', '178', '179', '180', '183', '184', '187', '188', '190', '191', '195', '199', '200', '203', '204', '205', '206', '208', '209']\n",
    "bm =  ['008', '025', '030', '055', '073', '078', '079', '088', '092', '107', '135', '172', '181', '186', '189', '192']\n",
    "sb =  ['000', '009', '010', '014', '015', '016', '017', '018', '020', '022', '023', '033', '034', '036', '041', '043', '059', '069', '071', '077', '082', '096', '097', '098', '100', '109', '111', '115', '116', '120', '123', '128', '131', '140', '142', '158', '161', '167', '168', '177', '182', '198', '201', '202']\n",
    "bb =  []\n",
    "ignorePatient = [\"005\",\"151\",\"165\",\"194\"]"
   ]
  },
  {
   "cell_type": "code",
   "execution_count": 8,
   "metadata": {},
   "outputs": [],
   "source": [
    "random.shuffle(sw)\n",
    "random.shuffle(bw)\n",
    "random.shuffle(sm)\n",
    "random.shuffle(bm)\n",
    "random.shuffle(sb)\n",
    "random.shuffle(bb)"
   ]
  },
  {
   "cell_type": "code",
   "execution_count": 12,
   "metadata": {},
   "outputs": [
    {
     "name": "stdout",
     "output_type": "stream",
     "text": [
      "28\n",
      "28\n",
      "150\n",
      "28\n",
      "28\n",
      "150\n",
      "validation =  ['007', '145', '173', '021', '019', '067', '141', '045', '074', '199', '130', '184', '087', '117', '148', '170', '063', '091', '163', '188', '008', '079', '116', '016', '123', '096', '111', '015']\n",
      "training =  ['068', '099', '037', '046', '196', '038', '080', '103', '113', '207', '094', '134', '095', '146', '137', '106', '185', '127', '028', '155', '093', '002', '053', '193', '133', '114', '056', '070', '139', '042', '195', '105', '011', '032', '112', '054', '051', '206', '187', '147', '191', '132', '064', '065', '006', '174', '204', '031', '159', '101', '118', '124', '152', '166', '072', '150', '160', '026', '164', '190', '138', '179', '039', '149', '049', '178', '040', '081', '085', '121', '157', '075', '062', '108', '029', '013', '090', '104', '060', '205', '203', '143', '183', '066', '169', '156', '027', '058', '154', '052', '180', '209', '048', '001', '153', '200', '110', '050', '122', '089', '084', '012', '144', '086', '024', '061', '135', '181', '189', '055', '025', '186', '078', '030', '192', '092', '107', '073', '201', '198', '109', '033', '022', '128', '034', '059', '167', '098', '168', '100', '041', '020', '082', '017', '120', '158', '182', '115', '010', '009', '097', '161', '131', '202', '177', '043', '140', '077', '018', '000']\n",
      "testing =  ['044', '035', '083', '197', '176', '102', '175', '076', '125', '129', '004', '047', '057', '119', '208', '162', '126', '136', '171', '003', '088', '172', '071', '142', '069', '023', '014', '036']\n"
     ]
    }
   ],
   "source": [
    "a = len(sw)\n",
    "b = len(bw)\n",
    "c = len(sm)\n",
    "d = len(bm)\n",
    "e = len(sb)\n",
    "f = len(bb)\n",
    "\n",
    "        \n",
    "validation = sw[:int(a/7)] + bw[:int(b/7)] + sm[:int(c/7)] \\\n",
    "              + bm[:int(d/7)] + sb[:int(e/7)] + bb[:int(f/7)] \\\n",
    "\n",
    "testing = sw[int(a/7):int(a/7)*2] + bw[int(b/7):int(b/7)*2] + sm[int(c/7):int(c/7)*2] \\\n",
    "              + bm[int(d/7):int(d/7)*2] + sb[int(e/7):int(e/7)*2] + bb[int(f/7):int(f/7)*2] \\\n",
    "\n",
    "training = sw[int(a/7)*2:] + bw[int(b/7)*2:] + sm[int(c/7)*2:] \\\n",
    "              + bm[int(d/7)*2:] + sb[int(e/7)*2:] + bb[int(f/7)*2:] \\\n",
    "              \n",
    "\n",
    "    \n",
    "print(len(validation))\n",
    "print(len(testing))\n",
    "print(len(training))\n",
    "# testing.append(\"151\")\n",
    "# training.remove(\"151\")\n",
    "# x = random.randint(0,len(testing))\n",
    "# training.append(testing[x])\n",
    "# testing.remove(testing[x])\n",
    "    \n",
    "cnt = 0\n",
    "ccc = validation+testing+training\n",
    "while len(training)!=150:\n",
    "    x = random.randint(0,len(training))\n",
    "    testing.append(training[x])\n",
    "    training.remove(training[x])\n",
    "    x = random.randint(0,len(training))\n",
    "    validation.append(training[x])\n",
    "    training.remove(training[x])\n",
    "    \n",
    "print(len(validation))\n",
    "print(len(testing))\n",
    "print(len(training))\n",
    "\n",
    "print(\"validation = \",validation)\n",
    "print(\"training = \", training)\n",
    "print(\"testing = \", testing)\n",
    "for x in validation:\n",
    "    if x in ignorePatient:\n",
    "        print(x)"
   ]
  },
  {
   "cell_type": "code",
   "execution_count": 10,
   "metadata": {},
   "outputs": [],
   "source": [
    "import SimpleITK as sitk\n",
    "import numpy as np\n",
    "import pandas as pd\n",
    "import glob\n",
    "import os"
   ]
  },
  {
   "cell_type": "code",
   "execution_count": 27,
   "metadata": {},
   "outputs": [],
   "source": [
    "training = ['207', '080', '095', '099', '007', '028', '053', '137', '176', '106', '083', '127', '094', '103', '193', '019', '197', '037', '196', '035', '113', '146', '185', '093', '145', '102', '056', '042', '139', '067', '180', '061', '026', '174', '153', '001', '064', '075', '091', '129', '147', '058', '178', '085', '086', '203', '003', '138', '144', '051', '122', '024', '076', '205', '121', '063', '108', '027', '188', '184', '004', '160', '119', '164', '045', '130', '072', '049', '166', '154', '209', '143', '013', '163', '074', '081', '048', '052', '126', '087', '149', '117', '136', '012', '206', '040', '191', '054', '124', '066', '195', '187', '132', '057', '150', '060', '089', '104', '170', '159', '171', '169', '039', '125', '199', '011', '008', '073', '055', '107', '079', '092', '192', '030', '186', '181', '088', '172', '034', '018', '120', '082', '177', '014', '158', '109', '100', '131', '033', '010', '140', '069', '022', '123', '071', '023', '098', '116', '128', '043', '059', '161', '115', '097', '167', '017', '015', '201', '096', '202']\n",
    "ignorePatient = [\"005\",\"151\",\"165\",\"194\"]"
   ]
  },
  {
   "cell_type": "code",
   "execution_count": 51,
   "metadata": {},
   "outputs": [],
   "source": [
    "data10 = {\"mean\" : [], \"var\" : []}\n",
    "for x in training:\n",
    "    sx = str(x).zfill(3)\n",
    "    \n",
    "    if sx in ignorePatient:\n",
    "        continue\n",
    "        \n",
    "    paths0 = glob.glob(os.path.join(\"E:\\slice\\layers_1_hist_org\\image\\case_00\" + sx, \"image0_*.mha\"))\n",
    "    paths1 = glob.glob(os.path.join(\"E:\\slice\\layers_1_hist_org\\image\\case_00\" + sx, \"image1_*.mha\"))\n",
    "    \n",
    "    \n",
    "    mean = [0,0]\n",
    "    var = [0,0]\n",
    "    check = True\n",
    "    for path0, path1 in zip(paths0, paths1):\n",
    "        img0 = sitk.ReadImage(path0)\n",
    "        img1 = sitk.ReadImage(path1)\n",
    "        img0Array = sitk.GetArrayFromImage(img0)\n",
    "        img1Array = sitk.GetArrayFromImage(img1)\n",
    "        \n",
    "        if check:\n",
    "            check = False\n",
    "            img0Arrays = img0Array\n",
    "            img1Arrays = img1Array\n",
    "        \n",
    "        else:\n",
    "            img0Arrays = np.dstack([img0Arrays, img0Array])\n",
    "            img1Arrays = np.dstack([img1Arrays, img1Array])\n",
    "        \n",
    "    data10[\"mean\"].append([img0Arrays.mean(), img1Arrays.mean()])\n",
    "    data10[\"var\"].append([img0Arrays.var(), img1Arrays.var()])"
   ]
  },
  {
   "cell_type": "code",
   "execution_count": 52,
   "metadata": {},
   "outputs": [],
   "source": [
    "print(np.array(data25[\"mean\"]).mean(), np.array(data25[\"var\"]).mean())\n",
    "print(np.array(data50[\"mean\"]).mean(), np.array(data50[\"var\"]).mean())\n",
    "print(np.array(data75[\"mean\"]).mean(), np.array(data75[\"var\"]).mean())\n",
    "print(np.array(data10[\"mean\"]).mean(), np.array(data10[\"var\"]).mean())"
   ]
  },
  {
   "cell_type": "code",
   "execution_count": 52,
   "metadata": {},
   "outputs": [],
   "source": []
  },
  {
   "cell_type": "markdown",
   "metadata": {},
   "source": [
    "12.218994473904107 214879.4315322188<br>\n",
    "12.570158569339881 117897.898996187<br>\n",
    "12.920030214222686 50587.0624435342<br>\n",
    "11.863239299971964 341530.5333371568<br>"
   ]
  },
  {
   "cell_type": "code",
   "execution_count": 53,
   "metadata": {},
   "outputs": [],
   "source": [
    "import csv # csvモジュールをインポート"
   ]
  },
  {
   "cell_type": "code",
   "execution_count": 56,
   "metadata": {},
   "outputs": [],
   "source": [
    "with open(\"data25.csv\", \"w\") as f: # 文字コードをShift_JISに指定\n",
    "    writer = csv.writer(f, lineterminator=\"\\n\") # writerオブジェクトの作成 改行記号で行を区切る\n",
    "    writer.writerows(data25[\"mean\"]) # cs"
   ]
  },
  {
   "cell_type": "markdown",
   "metadata": {},
   "source": [
    "# Make dataframe about alpha=0.25, 0.50, 0.75 (It doesn't finished)\n",
    "---"
   ]
  },
  {
   "cell_type": "code",
   "execution_count": null,
   "metadata": {},
   "outputs": [],
   "source": [
    "kidID = []\n",
    "kidsNumber = []\n",
    "kidTag = []\n",
    "kidMean = []\n",
    "kidStd = []\n",
    "kidVar = []\n",
    "kidMax = []\n",
    "kidMin = []\n",
    "\n",
    "canID = []\n",
    "cansNumber = []\n",
    "canTag = []\n",
    "canMean = []\n",
    "canStd = []\n",
    "canVar = []\n",
    "canMax = []\n",
    "canMin = []\n",
    "\n",
    "for x in range(210):\n",
    "    \n",
    "    sx = str(x).zfill(3)\n",
    "    \n",
    "    if sx in ignorePatient:\n",
    "        continue\n",
    "        \n",
    "    paths0 = glob.glob(os.path.join(\"E:\\slice\\layers_1_hist_org_0.25\\image\\case_00\" + sx, \"image0_*.mha\"))\n",
    "    paths1 = glob.glob(os.path.join(\"E:\\slice\\layers_1_hist_org_0.25\\image\\case_00\" + sx, \"image1_*.mha\"))\n",
    "    \n",
    "    for path0, path1 in zip(paths0, paths1):\n",
    "        img0 = sitk.ReadImage(path0)\n",
    "        img1 = sitk.ReadImage(path1)\n",
    "        img0Array = sitk.GetArrayFromImage(img0)\n",
    "        img1Array = sitk.GetArrayFromImage(img1)\n",
    "    \n",
    "    ## Extracting data is finished\n",
    "\n",
    "    for y in range(sliceNumber):\n",
    "        imgArray = imageArray[y,:,:]\n",
    "        labArray = labelArray[y,:,:]\n",
    "        \n",
    "        kidIndex = np.where(labArray==1)\n",
    "        canIndex = np.where(labArray==2)\n",
    "        \n",
    "        if kidIndex[0].size!=0:\n",
    "            kidImgArray = imgArray[kidIndex]\n",
    "            kidMean.append(kidImgArray.mean())\n",
    "            kidStd.append(kidImgArray.std())\n",
    "            kidVar.append(kidImgArray.var())\n",
    "            kidMax.append(kidImgArray.max())\n",
    "            kidMin.append(kidImgArray.min())\n",
    "        else:\n",
    "            kidMean.append(None)\n",
    "            kidStd.append(None)\n",
    "            kidVar.append(None)\n",
    "            kidMax.append(None)\n",
    "            kidMin.append(None)\n",
    "        \n",
    "        if canIndex[0].size!=0:\n",
    "            canImgArray = imgArray[canIndex]\n",
    "            canMean.append(canImgArray.mean())\n",
    "            canStd.append(canImgArray.std())\n",
    "            canVar.append(canImgArray.var())\n",
    "            canMax.append(canImgArray.max())\n",
    "            canMin.append(canImgArray.min())\n",
    "        \n",
    "        else:\n",
    "            canMean.append(None)\n",
    "            canStd.append(None)\n",
    "            canVar.append(None)\n",
    "            canMax.append(None)\n",
    "            canMin.append(None)\n",
    "            \n",
    "        kidID.append(x)\n",
    "        kidsNumber.append(y)\n",
    "        \n",
    "        canID.append(x)\n",
    "        cansNumber.append(y)\n",
    "        \n",
    "        kidTag.append(\"kidney\")\n",
    "        canTag.append(\"cancer\")\n",
    "    \n",
    "ID = kidID + canID\n",
    "sNumber = kidsNumber + cansNumber\n",
    "Tag = kidTag + canTag\n",
    "Mean = kidMean + canMean\n",
    "Std = kidStd + canStd\n",
    "Var = kidVar + canVar\n",
    "Max = kidMax + canMax\n",
    "Min = kidMax + canMin\n",
    "\n",
    "df[\"id\"] = ID\n",
    "df[\"slice number\"] = sNumber\n",
    "df[\"tag\"] = Tag\n",
    "df[\"Mean\"] = Mean\n",
    "df[\"Std\"] = Std\n",
    "df[\"Var\"] = Var\n",
    "df[\"Max\"] = Max\n",
    "df[\"Min\"] = Min\n",
    "\n",
    "\n",
    "print(df)\n",
    "df.set_index([\"id\", \"slice number\", \"tag\"], inplace=True)\n",
    "print(df)\n",
    "df.to_csv('sagital1.csv', sep=',', index=True, index_label = [\"id\", \"slice number\", \"tag\"])"
   ]
  },
  {
   "cell_type": "code",
   "execution_count": 2,
   "metadata": {},
   "outputs": [],
   "source": [
    "import matplotlib.pyplot as plt"
   ]
  },
  {
   "cell_type": "code",
   "execution_count": 4,
   "metadata": {},
   "outputs": [],
   "source": [
    "with open('/home/vmlab/Desktop/KIDNEY/text/result.txt') as f:\n",
    "    file = f.readlines()"
   ]
  },
  {
   "cell_type": "code",
   "execution_count": 5,
   "metadata": {},
   "outputs": [
    {
     "name": "stdout",
     "output_type": "stream",
     "text": [
      "1.0 0.6168616106368008\n",
      "0.95 0.6427303569773539\n",
      "0.9 0.6331813067769961\n",
      "0.85 0.6142015511082867\n",
      "0.8 0.6127422154373728\n",
      "0.75 0.6390143488447617\n",
      "0.7 0.6144467124985238\n",
      "0.6 0.6189194623422858\n",
      "0.55 0.6227715693641677\n",
      "0.5 0.6332673342763784\n",
      "0.44999999999999996 0.6330643159830883\n",
      "0.4 0.6154617736995323\n",
      "0.35 0.6162038113721422\n",
      "0.30000000000000004 0.6194164344665026\n",
      "0.25 0.619761210861021\n",
      "0.19999999999999996 0.6227163976428916\n",
      "0.15000000000000002 0.615614442828826\n",
      "0.09999999999999998 0.6066524546095309\n",
      "0.050000000000000044 0.6128789202649746\n",
      "0.0 0.6330005107201063\n"
     ]
    }
   ],
   "source": [
    "alpha = []\n",
    "dice =[]\n",
    "for x in file:\n",
    "    xx = x.split()\n",
    "    if xx[0][1].lower()=='l':\n",
    "        alpha.append(1.0 - float(xx[1].replace('<br>', '')))\n",
    "    elif xx[1][0].lower()=='c':\n",
    "        dice.append(float(xx[2].replace('<br>', '')))\n",
    "        \n",
    "for x, y in zip(alpha, dice):\n",
    "    print(x,y)"
   ]
  },
  {
   "cell_type": "code",
   "execution_count": 6,
   "metadata": {},
   "outputs": [
    {
     "data": {
      "text/plain": [
       "[<matplotlib.lines.Line2D at 0x7f6d67a6b710>]"
      ]
     },
     "execution_count": 6,
     "metadata": {},
     "output_type": "execute_result"
    },
    {
     "data": {
      "image/png": "[encoded data removed]",
      "text/plain": [
       "<Figure size 432x288 with 1 Axes>"
      ]
     },
     "metadata": {
      "needs_background": "light"
     },
     "output_type": "display_data"
    }
   ],
   "source": [
    "plt.plot(alpha, dice)"
   ]
  },
  {
   "cell_type": "code",
   "execution_count": 46,
   "metadata": {},
   "outputs": [
    {
     "data": {
      "image/png": "[encoded data removed]",
      "text/plain": [
       "<Figure size 1440x720 with 12 Axes>"
      ]
     },
     "metadata": {
      "needs_background": "light"
     },
     "output_type": "display_data"
    }
   ],
   "source": [
    "alpha = ['0.0', '0.20', '0.40', '0.60', '0.80', '1.0']\n",
    "#alpha = ['1.0']\n",
    "fig, axes = plt.subplots(2 ,6, figsize=(20, 10))\n",
    "for ii, a in enumerate(alpha):\n",
    "    i = sitk.ReadImage('/home/vmlab/Desktop/data/slice/summed_hist_' + a + '/image/case_00000/image0_13.mha')\n",
    "    ia = sitk.GetArrayFromImage(i)\n",
    "    axes[0][ii].set_title(\"summed_hist_int_alpha=\" + a)\n",
    "    axes[0][ii].hist(ia.ravel(), 2049, [-1024, 1024], density=True)\n",
    "    i = sitk.ReadImage('/home/vmlab/Desktop/data/slice/summed_hist_float_' + a + '/image/case_00000/image0_13.mha')\n",
    "    ia = sitk.GetArrayFromImage(i)\n",
    "    axes[0][ii].set_title(\"summed_hist_float_alpha=\" + a)\n",
    "    axes[1][ii].hist(ia.ravel(), 2049, [-1024, 1024], density=True)\n",
    "   "
   ]
  },
  {
   "cell_type": "code",
   "execution_count": 45,
   "metadata": {},
   "outputs": [
    {
     "data": {
      "image/png": "[encoded data removed]",
      "text/plain": [
       "<Figure size 1440x360 with 6 Axes>"
      ]
     },
     "metadata": {
      "needs_background": "light"
     },
     "output_type": "display_data"
    }
   ],
   "source": [
    "alpha = ['0.0', '0.2', '0.4', '0.6', '0.8', '1.0']\n",
    "alpha.reverse()\n",
    "fig, axes = plt.subplots(1 ,6, figsize=(20, 5))\n",
    "for ii, a in enumerate(alpha):\n",
    "    i = sitk.ReadImage('/home/vmlab/Desktop/data/slice/hist_'+ a + '/image/case_00000/image0_13.mha')\n",
    "    ia = sitk.GetArrayFromImage(i)\n",
    "    axes[ii].set_title(\"hist_alpha=\" + a)\n",
    "    axes[ii].hist(ia.ravel(), 2049, [-1024, 1024], density=True)"
   ]
  },
  {
   "cell_type": "code",
   "execution_count": 2,
   "metadata": {},
   "outputs": [],
   "source": [
    "import SimpleITK as sitk\n",
    "import matplotlib.pyplot as plt\n",
    "import pandas as pd\n",
    "import numpy as np\n",
    "from matplotlib.colors import ListedColormap\n",
    "import random"
   ]
  },
  {
   "cell_type": "code",
   "execution_count": 3,
   "metadata": {},
   "outputs": [],
   "source": [
    "def printchk(x):\n",
    "    for s, v in globals().items():\n",
    "        if id(v) == id(x):\n",
    "            print('{} : {}'.format(s, x))\n",
    "            break\n",
    "            \n",
    "    return "
   ]
  },
  {
   "cell_type": "code",
   "execution_count": 4,
   "metadata": {},
   "outputs": [
    {
     "data": {
      "text/html": [
       "<div>\n",
       "<style scoped>\n",
       "    .dataframe tbody tr th:only-of-type {\n",
       "        vertical-align: middle;\n",
       "    }\n",
       "\n",
       "    .dataframe tbody tr th {\n",
       "        vertical-align: top;\n",
       "    }\n",
       "\n",
       "    .dataframe thead th {\n",
       "        text-align: right;\n",
       "    }\n",
       "</style>\n",
       "<table border=\"1\" class=\"dataframe\">\n",
       "  <thead>\n",
       "    <tr style=\"text-align: right;\">\n",
       "      <th></th>\n",
       "      <th>Unnamed: 0</th>\n",
       "      <th>id</th>\n",
       "      <th>slice number</th>\n",
       "      <th>tag</th>\n",
       "      <th>Mean</th>\n",
       "      <th>Std</th>\n",
       "      <th>Var</th>\n",
       "      <th>Max</th>\n",
       "      <th>Min</th>\n",
       "      <th>Size</th>\n",
       "    </tr>\n",
       "  </thead>\n",
       "  <tbody>\n",
       "    <tr>\n",
       "      <th>0</th>\n",
       "      <td>162</td>\n",
       "      <td>0</td>\n",
       "      <td>162</td>\n",
       "      <td>kidney</td>\n",
       "      <td>-37.253151</td>\n",
       "      <td>9.672718</td>\n",
       "      <td>93.561468</td>\n",
       "      <td>-11.861316</td>\n",
       "      <td>-11.861316</td>\n",
       "      <td>22</td>\n",
       "    </tr>\n",
       "    <tr>\n",
       "      <th>1</th>\n",
       "      <td>163</td>\n",
       "      <td>0</td>\n",
       "      <td>163</td>\n",
       "      <td>kidney</td>\n",
       "      <td>37.572537</td>\n",
       "      <td>49.860718</td>\n",
       "      <td>2486.091249</td>\n",
       "      <td>127.743541</td>\n",
       "      <td>127.743541</td>\n",
       "      <td>83</td>\n",
       "    </tr>\n",
       "    <tr>\n",
       "      <th>2</th>\n",
       "      <td>164</td>\n",
       "      <td>0</td>\n",
       "      <td>164</td>\n",
       "      <td>kidney</td>\n",
       "      <td>85.865282</td>\n",
       "      <td>86.790756</td>\n",
       "      <td>7532.635240</td>\n",
       "      <td>216.219592</td>\n",
       "      <td>216.219592</td>\n",
       "      <td>147</td>\n",
       "    </tr>\n",
       "    <tr>\n",
       "      <th>3</th>\n",
       "      <td>165</td>\n",
       "      <td>0</td>\n",
       "      <td>165</td>\n",
       "      <td>kidney</td>\n",
       "      <td>99.003225</td>\n",
       "      <td>94.184951</td>\n",
       "      <td>8870.804999</td>\n",
       "      <td>241.380014</td>\n",
       "      <td>241.380014</td>\n",
       "      <td>247</td>\n",
       "    </tr>\n",
       "    <tr>\n",
       "      <th>4</th>\n",
       "      <td>166</td>\n",
       "      <td>0</td>\n",
       "      <td>166</td>\n",
       "      <td>kidney</td>\n",
       "      <td>129.435100</td>\n",
       "      <td>84.773216</td>\n",
       "      <td>7186.498072</td>\n",
       "      <td>251.062135</td>\n",
       "      <td>251.062135</td>\n",
       "      <td>333</td>\n",
       "    </tr>\n",
       "  </tbody>\n",
       "</table>\n",
       "</div>"
      ],
      "text/plain": [
       "   Unnamed: 0  id  slice number     tag        Mean        Std          Var  \\\n",
       "0         162   0           162  kidney  -37.253151   9.672718    93.561468   \n",
       "1         163   0           163  kidney   37.572537  49.860718  2486.091249   \n",
       "2         164   0           164  kidney   85.865282  86.790756  7532.635240   \n",
       "3         165   0           165  kidney   99.003225  94.184951  8870.804999   \n",
       "4         166   0           166  kidney  129.435100  84.773216  7186.498072   \n",
       "\n",
       "          Max         Min  Size  \n",
       "0  -11.861316  -11.861316    22  \n",
       "1  127.743541  127.743541    83  \n",
       "2  216.219592  216.219592   147  \n",
       "3  241.380014  241.380014   247  \n",
       "4  251.062135  251.062135   333  "
      ]
     },
     "execution_count": 4,
     "metadata": {},
     "output_type": "execute_result"
    }
   ],
   "source": [
    "df = pd.read_csv(\"dfAboutKidneyAndCancer.csv\")\n",
    "df.head()"
   ]
  },
  {
   "cell_type": "code",
   "execution_count": 5,
   "metadata": {},
   "outputs": [
    {
     "data": {
      "text/plain": [
       "id\n",
       "0    209748\n",
       "1    258749\n",
       "2    294812\n",
       "3    214001\n",
       "4    239867\n",
       "Name: Size, dtype: int64"
      ]
     },
     "execution_count": 5,
     "metadata": {},
     "output_type": "execute_result"
    }
   ],
   "source": [
    "df_kid = df.query(\"tag=='kidney'\")\n",
    "df_kid_id = df_kid.groupby('id')\n",
    "df_kid_id_size = df_kid_id[\"Size\"].sum()\n",
    "df_kid_id_size.head()"
   ]
  },
  {
   "cell_type": "code",
   "execution_count": 6,
   "metadata": {},
   "outputs": [
    {
     "data": {
      "text/plain": [
       "id\n",
       "0    115.864027\n",
       "1     61.593494\n",
       "2     44.756910\n",
       "3     73.913018\n",
       "4     66.122565\n",
       "Name: Mean, dtype: float64"
      ]
     },
     "execution_count": 6,
     "metadata": {},
     "output_type": "execute_result"
    }
   ],
   "source": [
    "df_can = df.query(\"tag=='cancer'\")\n",
    "df_can_id = df_can.groupby('id')\n",
    "df_can_id_size = df_can_id[\"Size\"].sum()\n",
    "df_can_id_hu = df_can_id[\"Mean\"].mean()\n",
    "df_can_id_hu.head()"
   ]
  },
  {
   "cell_type": "code",
   "execution_count": 7,
   "metadata": {},
   "outputs": [
    {
     "data": {
      "text/html": [
       "<div>\n",
       "<style scoped>\n",
       "    .dataframe tbody tr th:only-of-type {\n",
       "        vertical-align: middle;\n",
       "    }\n",
       "\n",
       "    .dataframe tbody tr th {\n",
       "        vertical-align: top;\n",
       "    }\n",
       "\n",
       "    .dataframe thead th {\n",
       "        text-align: right;\n",
       "    }\n",
       "</style>\n",
       "<table border=\"1\" class=\"dataframe\">\n",
       "  <thead>\n",
       "    <tr style=\"text-align: right;\">\n",
       "      <th></th>\n",
       "      <th>id</th>\n",
       "      <th>Csize</th>\n",
       "      <th>Ksize</th>\n",
       "      <th>HU</th>\n",
       "      <th>C/K</th>\n",
       "    </tr>\n",
       "  </thead>\n",
       "  <tbody>\n",
       "    <tr>\n",
       "      <th>0</th>\n",
       "      <td>0</td>\n",
       "      <td>4160.0</td>\n",
       "      <td>209748.0</td>\n",
       "      <td>115.864027</td>\n",
       "      <td>0.019833</td>\n",
       "    </tr>\n",
       "    <tr>\n",
       "      <th>1</th>\n",
       "      <td>1</td>\n",
       "      <td>3980.0</td>\n",
       "      <td>258749.0</td>\n",
       "      <td>61.593494</td>\n",
       "      <td>0.015382</td>\n",
       "    </tr>\n",
       "    <tr>\n",
       "      <th>2</th>\n",
       "      <td>2</td>\n",
       "      <td>18957.0</td>\n",
       "      <td>294812.0</td>\n",
       "      <td>44.756910</td>\n",
       "      <td>0.064302</td>\n",
       "    </tr>\n",
       "    <tr>\n",
       "      <th>3</th>\n",
       "      <td>3</td>\n",
       "      <td>5562.0</td>\n",
       "      <td>214001.0</td>\n",
       "      <td>73.913018</td>\n",
       "      <td>0.025991</td>\n",
       "    </tr>\n",
       "    <tr>\n",
       "      <th>4</th>\n",
       "      <td>4</td>\n",
       "      <td>10301.0</td>\n",
       "      <td>239867.0</td>\n",
       "      <td>66.122565</td>\n",
       "      <td>0.042945</td>\n",
       "    </tr>\n",
       "  </tbody>\n",
       "</table>\n",
       "</div>"
      ],
      "text/plain": [
       "   id    Csize     Ksize          HU       C/K\n",
       "0   0   4160.0  209748.0  115.864027  0.019833\n",
       "1   1   3980.0  258749.0   61.593494  0.015382\n",
       "2   2  18957.0  294812.0   44.756910  0.064302\n",
       "3   3   5562.0  214001.0   73.913018  0.025991\n",
       "4   4  10301.0  239867.0   66.122565  0.042945"
      ]
     },
     "execution_count": 7,
     "metadata": {},
     "output_type": "execute_result"
    }
   ],
   "source": [
    "df_can_kid_id_size = pd.DataFrame(index = range(len(df_can_id_size)), columns = [\"id\", \"Csize\", \"Ksize\", \"HU\"])\n",
    "df_can_kid_id_size[\"id\"] = range(len(df_can_kid_id_size))\n",
    "df_can_kid_id_size[\"Csize\"] = df_can_id_size\n",
    "df_can_kid_id_size[\"Ksize\"] = df_kid_id_size\n",
    "df_can_kid_id_size[\"HU\"] = df_can_id_hu\n",
    "df_can_kid_id_size.head()\n",
    "df_can_kid_id_size[\"C/K\"] = df_can_id_size / df_kid_id_size\n",
    "df_can_kid_id_size.head()"
   ]
  },
  {
   "cell_type": "code",
   "execution_count": 26,
   "metadata": {},
   "outputs": [
    {
     "data": {
      "text/plain": [
       "<matplotlib.axes._subplots.AxesSubplot at 0x121d818d0>"
      ]
     },
     "execution_count": 26,
     "metadata": {},
     "output_type": "execute_result"
    },
    {
     "data": {
      "image/png": "[encoded data removed]",
      "text/plain": [
       "<Figure size 432x288 with 1 Axes>"
      ]
     },
     "metadata": {
      "needs_background": "light"
     },
     "output_type": "display_data"
    }
   ],
   "source": [
    "df_can_kid_id_size.plot(x=\"C/K\", y=\"HU\", kind=\"scatter\")"
   ]
  },
  {
   "cell_type": "code",
   "execution_count": 27,
   "metadata": {},
   "outputs": [
    {
     "name": "stdout",
     "output_type": "stream",
     "text": [
      "86\n"
     ]
    },
    {
     "data": {
      "text/html": [
       "<div>\n",
       "<style scoped>\n",
       "    .dataframe tbody tr th:only-of-type {\n",
       "        vertical-align: middle;\n",
       "    }\n",
       "\n",
       "    .dataframe tbody tr th {\n",
       "        vertical-align: top;\n",
       "    }\n",
       "\n",
       "    .dataframe thead th {\n",
       "        text-align: right;\n",
       "    }\n",
       "</style>\n",
       "<table border=\"1\" class=\"dataframe\">\n",
       "  <thead>\n",
       "    <tr style=\"text-align: right;\">\n",
       "      <th></th>\n",
       "      <th>id</th>\n",
       "      <th>Csize</th>\n",
       "      <th>Ksize</th>\n",
       "      <th>HU</th>\n",
       "      <th>C/K</th>\n",
       "    </tr>\n",
       "  </thead>\n",
       "  <tbody>\n",
       "    <tr>\n",
       "      <th>19</th>\n",
       "      <td>19</td>\n",
       "      <td>826.0</td>\n",
       "      <td>288916.0</td>\n",
       "      <td>48.235318</td>\n",
       "      <td>0.002859</td>\n",
       "    </tr>\n",
       "    <tr>\n",
       "      <th>120</th>\n",
       "      <td>120</td>\n",
       "      <td>390.0</td>\n",
       "      <td>135973.0</td>\n",
       "      <td>156.908990</td>\n",
       "      <td>0.002868</td>\n",
       "    </tr>\n",
       "    <tr>\n",
       "      <th>72</th>\n",
       "      <td>72</td>\n",
       "      <td>931.0</td>\n",
       "      <td>223305.0</td>\n",
       "      <td>76.326101</td>\n",
       "      <td>0.004169</td>\n",
       "    </tr>\n",
       "    <tr>\n",
       "      <th>201</th>\n",
       "      <td>201</td>\n",
       "      <td>1408.0</td>\n",
       "      <td>332485.0</td>\n",
       "      <td>107.094314</td>\n",
       "      <td>0.004235</td>\n",
       "    </tr>\n",
       "    <tr>\n",
       "      <th>50</th>\n",
       "      <td>50</td>\n",
       "      <td>1292.0</td>\n",
       "      <td>241807.0</td>\n",
       "      <td>90.869760</td>\n",
       "      <td>0.005343</td>\n",
       "    </tr>\n",
       "  </tbody>\n",
       "</table>\n",
       "</div>"
      ],
      "text/plain": [
       "      id   Csize     Ksize          HU       C/K\n",
       "19    19   826.0  288916.0   48.235318  0.002859\n",
       "120  120   390.0  135973.0  156.908990  0.002868\n",
       "72    72   931.0  223305.0   76.326101  0.004169\n",
       "201  201  1408.0  332485.0  107.094314  0.004235\n",
       "50    50  1292.0  241807.0   90.869760  0.005343"
      ]
     },
     "execution_count": 27,
     "metadata": {},
     "output_type": "execute_result"
    }
   ],
   "source": [
    "print(len(df_can_kid_id_size[df_can_kid_id_size[\"C/K\"] < 0.045]))\n",
    "selected = df_can_kid_id_size[df_can_kid_id_size[\"C/K\"] < 0.045].sort_values(\"C/K\")\n",
    "selected.head()"
   ]
  },
  {
   "cell_type": "code",
   "execution_count": 28,
   "metadata": {},
   "outputs": [
    {
     "name": "stdout",
     "output_type": "stream",
     "text": [
      "smallWhile : [19, 72, 201, 50, 106, 191, 37, 156, 137, 20, 27, 121, 62, 141, 188, 81, 164, 124, 63, 167, 76, 54, 101, 17, 132, 129, 75, 1, 203, 40, 155, 65, 49, 31, 85]\n",
      "smallBlack : [120, 123, 100, 140, 14, 182, 198, 158, 23, 33, 77, 22, 15, 82, 0]\n",
      "bigWhite : [103, 173, 93, 83, 146, 152, 136, 39, 150, 127, 94, 3, 6, 153, 128, 175, 193, 32, 43, 125, 64, 52, 7, 174, 138, 190, 205, 91, 4]\n",
      "bigBlack : [9, 71, 96, 18, 115, 10, 97]\n"
     ]
    }
   ],
   "source": [
    "colors = [\"red\", \"blue\", \"green\", \"yellow\"]\n",
    "c = []\n",
    "smallWhile = []\n",
    "smallBlack = []\n",
    "bigWhite = []\n",
    "bigBlack = []\n",
    "for s, hu, i in zip(selected[\"C/K\"], selected[\"HU\"], selected[\"id\"]):\n",
    "    if hu < 110:\n",
    "        if s < 0.02:\n",
    "            c.append(0)\n",
    "            smallWhile.append(i)\n",
    "        \n",
    "        else:\n",
    "            c.append(1)\n",
    "            bigWhite.append(i)\n",
    "    else:\n",
    "        if s < 0.02:\n",
    "            c.append(2)\n",
    "            smallBlack.append(i)\n",
    "        \n",
    "        else:\n",
    "            c.append(3)\n",
    "            bigBlack.append(i)\n",
    "    \n",
    "    \n",
    "cmap = ListedColormap(colors)\n",
    "printchk(smallWhile)\n",
    "printchk(smallBlack)\n",
    "printchk(bigWhite)\n",
    "printchk(bigBlack)"
   ]
  },
  {
   "cell_type": "code",
   "execution_count": 29,
   "metadata": {},
   "outputs": [],
   "source": [
    "random.shuffle(smallWhile)\n",
    "random.shuffle(smallBlack)\n",
    "random.shuffle(bigWhite)\n",
    "random.shuffle(bigBlack)"
   ]
  },
  {
   "cell_type": "code",
   "execution_count": 30,
   "metadata": {},
   "outputs": [
    {
     "name": "stdout",
     "output_type": "stream",
     "text": [
      "5 2 4 1\n"
     ]
    },
    {
     "ename": "ValueError",
     "evalue": "list.remove(x): x not in list",
     "output_type": "error",
     "traceback": [
      "\u001b[0;31m---------------------------------------------------------------------------\u001b[0m",
      "\u001b[0;31mValueError\u001b[0m                                Traceback (most recent call last)",
      "\u001b[0;32m<ipython-input-30-d1c820c10533>\u001b[0m in \u001b[0;36m<module>\u001b[0;34m\u001b[0m\n\u001b[1;32m      9\u001b[0m \u001b[0mvalidation\u001b[0m \u001b[0;34m=\u001b[0m \u001b[0msmallWhile\u001b[0m\u001b[0;34m[\u001b[0m\u001b[0msw\u001b[0m\u001b[0;34m*\u001b[0m\u001b[0;36m6\u001b[0m\u001b[0;34m:\u001b[0m\u001b[0;34m]\u001b[0m \u001b[0;34m+\u001b[0m \u001b[0msmallBlack\u001b[0m\u001b[0;34m[\u001b[0m\u001b[0msb\u001b[0m\u001b[0;34m*\u001b[0m\u001b[0;36m6\u001b[0m\u001b[0;34m:\u001b[0m\u001b[0;34m]\u001b[0m \u001b[0;34m+\u001b[0m \u001b[0mbigWhite\u001b[0m\u001b[0;34m[\u001b[0m\u001b[0mbw\u001b[0m\u001b[0;34m*\u001b[0m\u001b[0;36m6\u001b[0m\u001b[0;34m:\u001b[0m\u001b[0;34m]\u001b[0m \u001b[0;34m+\u001b[0m \u001b[0mbigBlack\u001b[0m\u001b[0;34m[\u001b[0m\u001b[0mbb\u001b[0m\u001b[0;34m*\u001b[0m\u001b[0;36m6\u001b[0m\u001b[0;34m:\u001b[0m\u001b[0;34m]\u001b[0m\u001b[0;34m\u001b[0m\u001b[0;34m\u001b[0m\u001b[0m\n\u001b[1;32m     10\u001b[0m \u001b[0;34m\u001b[0m\u001b[0m\n\u001b[0;32m---> 11\u001b[0;31m \u001b[0mvalidation\u001b[0m\u001b[0;34m.\u001b[0m\u001b[0mremove\u001b[0m\u001b[0;34m(\u001b[0m\u001b[0;36m141\u001b[0m\u001b[0;34m)\u001b[0m\u001b[0;34m\u001b[0m\u001b[0;34m\u001b[0m\u001b[0m\n\u001b[0m\u001b[1;32m     12\u001b[0m \u001b[0mtesting\u001b[0m\u001b[0;34m.\u001b[0m\u001b[0mappend\u001b[0m\u001b[0;34m(\u001b[0m\u001b[0;36m141\u001b[0m\u001b[0;34m)\u001b[0m\u001b[0;34m\u001b[0m\u001b[0;34m\u001b[0m\u001b[0m\n\u001b[1;32m     13\u001b[0m \u001b[0mtraining\u001b[0m \u001b[0;34m=\u001b[0m \u001b[0msorted\u001b[0m\u001b[0;34m(\u001b[0m\u001b[0mtraining\u001b[0m\u001b[0;34m)\u001b[0m\u001b[0;34m\u001b[0m\u001b[0;34m\u001b[0m\u001b[0m\n",
      "\u001b[0;31mValueError\u001b[0m: list.remove(x): x not in list"
     ]
    }
   ],
   "source": [
    "sw = int(len(smallWhile) / 7)\n",
    "sb = int(len(smallBlack) / 7)\n",
    "bw = int(len(bigWhite) / 7)\n",
    "bb = int(len(bigBlack) / 7)\n",
    "\n",
    "print(sw, sb, bw, bb)\n",
    "training = smallWhile[:sw*5] + smallBlack[:sb*5] + bigWhite[:bw*5] + bigBlack[:bb*5]\n",
    "testing = smallWhile[sw*5:sw*6] + smallBlack[sb*5:sb*6] + bigWhite[bw*5:bw*6] + bigBlack[bb*5:bb*6]\n",
    "validation = smallWhile[sw*6:] + smallBlack[sb*6:] + bigWhite[bw*6:] + bigBlack[bb*6:]\n",
    "\n",
    "validation.remove(141)\n",
    "testing.append(141)\n",
    "training = sorted(training)\n",
    "testing = sorted(testing)\n",
    "validation = sorted(validation)\n",
    "print(\"training = \", list(map(lambda x : str(x).zfill(3), training)))\n",
    "print(\"testing = \", list(map(lambda x : str(x).zfill(3), testing)))\n",
    "print(\"validaiton = \", list(map(lambda x : str(x).zfill(3), validation)))\n",
    "print(len(training), len(testing), len(validation))\n"
   ]
  },
  {
   "cell_type": "code",
   "execution_count": 31,
   "metadata": {},
   "outputs": [
    {
     "data": {
      "text/plain": [
       "<matplotlib.axes._subplots.AxesSubplot at 0x121ee6c50>"
      ]
     },
     "execution_count": 31,
     "metadata": {},
     "output_type": "execute_result"
    },
    {
     "data": {
      "image/png": "[encoded data removed]",
      "text/plain": [
       "<Figure size 432x288 with 2 Axes>"
      ]
     },
     "metadata": {
      "needs_background": "light"
     },
     "output_type": "display_data"
    }
   ],
   "source": [
    "selected.plot(x=\"HU\", y=\"C/K\", kind=\"scatter\", c=c, cmap=cmap)"
   ]
  },
  {
   "cell_type": "code",
   "execution_count": 14,
   "metadata": {},
   "outputs": [],
   "source": [
    "selectedId = np.sort(np.array(selected_id))"
   ]
  },
  {
   "cell_type": "code",
   "execution_count": 15,
   "metadata": {},
   "outputs": [
    {
     "data": {
      "text/plain": [
       "array([  0,   1,   3,   4,   6,   7,   9,  10,  14,  15,  17,  18,  19,\n",
       "        20,  22,  23,  27,  31,  32,  33,  37,  39,  40,  43,  49,  50,\n",
       "        52,  54,  62,  63,  64,  65,  71,  72,  75,  76,  77,  81,  82,\n",
       "        83,  85,  91,  93,  94,  96,  97, 100, 101, 103, 106, 115, 120,\n",
       "       121, 123, 124, 125, 127, 128, 129, 132, 136, 137, 138, 140, 141,\n",
       "       146, 150, 152, 153, 155, 156, 158, 164, 167, 173, 174, 175, 182,\n",
       "       188, 190, 191, 193, 198, 201, 203, 205])"
      ]
     },
     "execution_count": 15,
     "metadata": {},
     "output_type": "execute_result"
    }
   ],
   "source": [
    "selectedId"
   ]
  },
  {
   "cell_type": "code",
   "execution_count": 75,
   "metadata": {},
   "outputs": [
    {
     "name": "stdout",
     "output_type": "stream",
     "text": [
      "0, 1, 3, 4, 6, 7, 9, 10, 14, 15, 17, 18, 19, 20, 22, 23, 27, 31, 32, 33, 37, 39, 40, 43, 49, 50, 52, 54, 62, 63, 64, 65, 71, 72, 75, 76, 77, 81, 82, 83, 85, 91, 93, 94, 96, 97, 100, 101, 103, 106, 115, 120, 121, 123, 124, 125, 127, 128, 129, 132, 136, 137, 138, 140, 141, 146, 150, 152, 153, 155, 156, 158, 164, 167, 173, 174, 175, 182, 188, 190, 191, 193, 198, 201, 203, 205, "
     ]
    }
   ],
   "source": [
    "for sid in selectedId:\n",
    "    print(str(sid), end=\", \")"
   ]
  },
  {
   "cell_type": "code",
   "execution_count": 23,
   "metadata": {},
   "outputs": [
    {
     "data": {
      "text/plain": [
       "<matplotlib.axes._subplots.AxesSubplot at 0x7fdc77946278>"
      ]
     },
     "execution_count": 23,
     "metadata": {},
     "output_type": "execute_result"
    },
    {
     "data": {
      "image/png": "[encoded data removed]",
      "text/plain": [
       "<Figure size 432x288 with 1 Axes>"
      ]
     },
     "metadata": {
      "needs_background": "light"
     },
     "output_type": "display_data"
    }
   ],
   "source": [
    "df_can_kid_id_size.plot(x = \"id\", y=\"C/K\", kind=\"scatter\")"
   ]
  },
  {
   "cell_type": "code",
   "execution_count": null,
   "metadata": {},
   "outputs": [],
   "source": [
    "df_can = df.query(\"tag=='cancer'\")\n",
    "df_can_id = df_can.groupby('id')\n",
    "df_can_id.head()"
   ]
  },
  {
   "cell_type": "code",
   "execution_count": 35,
   "metadata": {
    "collapsed": true,
    "jupyter": {
     "outputs_hidden": true
    }
   },
   "outputs": [
    {
     "name": "stdout",
     "output_type": "stream",
     "text": [
      "      Size\n",
      "id        \n",
      "0     4160\n",
      "1     3980\n",
      "2    18957\n",
      "3     5562\n",
      "4    10301\n",
      "..     ...\n",
      "205   6718\n",
      "206  22277\n",
      "207   3033\n",
      "208   1961\n",
      "209   1232\n",
      "\n",
      "[206 rows x 1 columns]\n",
      "92\n"
     ]
    },
    {
     "data": {
      "text/html": [
       "<div>\n",
       "<style scoped>\n",
       "    .dataframe tbody tr th:only-of-type {\n",
       "        vertical-align: middle;\n",
       "    }\n",
       "\n",
       "    .dataframe tbody tr th {\n",
       "        vertical-align: top;\n",
       "    }\n",
       "\n",
       "    .dataframe thead th {\n",
       "        text-align: right;\n",
       "    }\n",
       "</style>\n",
       "<table border=\"1\" class=\"dataframe\">\n",
       "  <thead>\n",
       "    <tr style=\"text-align: right;\">\n",
       "      <th></th>\n",
       "      <th>Size</th>\n",
       "    </tr>\n",
       "    <tr>\n",
       "      <th>id</th>\n",
       "      <th></th>\n",
       "    </tr>\n",
       "  </thead>\n",
       "  <tbody>\n",
       "    <tr>\n",
       "      <th>7</th>\n",
       "      <td>10222</td>\n",
       "    </tr>\n",
       "    <tr>\n",
       "      <th>97</th>\n",
       "      <td>10224</td>\n",
       "    </tr>\n",
       "    <tr>\n",
       "      <th>4</th>\n",
       "      <td>10301</td>\n",
       "    </tr>\n",
       "    <tr>\n",
       "      <th>68</th>\n",
       "      <td>10653</td>\n",
       "    </tr>\n",
       "    <tr>\n",
       "      <th>147</th>\n",
       "      <td>10926</td>\n",
       "    </tr>\n",
       "  </tbody>\n",
       "</table>\n",
       "</div>"
      ],
      "text/plain": [
       "      Size\n",
       "id        \n",
       "7    10222\n",
       "97   10224\n",
       "4    10301\n",
       "68   10653\n",
       "147  10926"
      ]
     },
     "execution_count": 35,
     "metadata": {},
     "output_type": "execute_result"
    }
   ],
   "source": [
    "df_can_id_size = df_can_id[\"Size\"].sum()\n",
    "df_can_size_sort = df_can_id_size.sort_values()\n",
    "df_can_id_size = pd.DataFrame(df_can_id_size, columns = [ 'Size'])\n",
    "print(df_can_id_size)\n",
    "print(len(df_can_id_size.query('Size < 11000').sort_values('Size')))\n",
    "df_can_id_size.query('Size < 11000').sort_values('Size').tail()"
   ]
  },
  {
   "cell_type": "code",
   "execution_count": 158,
   "metadata": {},
   "outputs": [],
   "source": []
  },
  {
   "cell_type": "code",
   "execution_count": 158,
   "metadata": {},
   "outputs": [
    {
     "data": {
      "text/plain": [
       "<matplotlib.axes._subplots.AxesSubplot at 0x7f24460be7b8>"
      ]
     },
     "execution_count": 158,
     "metadata": {},
     "output_type": "execute_result"
    },
    {
     "data": {
      "image/png": "[encoded data removed]",
      "text/plain": [
       "<Figure size 432x288 with 1 Axes>"
      ]
     },
     "metadata": {
      "needs_background": "light"
     },
     "output_type": "display_data"
    }
   ],
   "source": [
    "df_can_id_size.plot()"
   ]
  },
  {
   "cell_type": "code",
   "execution_count": 61,
   "metadata": {},
   "outputs": [],
   "source": [
    "import SimpleITK as sitk\n",
    "import numpy as np\n",
    "from clip3D import Resizing\n",
    "from functions import saveImage, createParentPath\n",
    "from pathlib import Path"
   ]
  },
  {
   "cell_type": "code",
   "execution_count": 62,
   "metadata": {},
   "outputs": [],
   "source": [
    "leftImage = sitk.ReadImage(\"/Users/tanimotoryou/Documents/lab/program/KIDNEY/test/image_left.mha\")\n",
    "leftImageArray = sitk.GetArrayFromImage(leftImage)\n",
    "leftLabel = sitk.ReadImage(\"/Users/tanimotoryou/Documents/lab/program/KIDNEY/test/label_left.mha\")\n",
    "leftLabelArray = sitk.GetArrayFromImage(leftLabel)\n",
    "rightImage = sitk.ReadImage(\"/Users/tanimotoryou/Documents/lab/program/KIDNEY/test/image_right.mha\")\n",
    "rightImageArray = sitk.GetArrayFromImage(rightImage)\n",
    "rightLabel = sitk.ReadImage(\"/Users/tanimotoryou/Documents/lab/program/KIDNEY/test/label_right.mha\")\n",
    "rightLabelArray = sitk.GetArrayFromImage(rightLabel)"
   ]
  },
  {
   "cell_type": "code",
   "execution_count": 63,
   "metadata": {},
   "outputs": [],
   "source": [
    "def saveImage(saveImg, img, savePath):\n",
    "    #saveImg = sitk.GetImageFromArray(saveImgArray)\n",
    "    saveImg.SetDirection(img.GetDirection())\n",
    "    saveImg.SetOrigin(img.GetOrigin())\n",
    "    saveImg.SetSpacing(img.GetSpacing())\n",
    "    \n",
    "    print('Saving image to {}...'.format(savePath))\n",
    "    sitk.WriteImage(saveImg, savePath, True)\n",
    "    print(\"Done.\")\n",
    "    return"
   ]
  },
  {
   "cell_type": "code",
   "execution_count": 64,
   "metadata": {},
   "outputs": [
    {
     "name": "stdout",
     "output_type": "stream",
     "text": [
      "(-0.0, 0.0, 1.0, 0.0, 1.0, 0.0, -1.0, 0.0, 0.0)\n",
      "(0.0, 0.0, 0.0)\n",
      "(3.0, 0.781624972820282, 0.781624972820282)\n",
      "(26, 108, 78)\n",
      "(78, 108, 26)\n"
     ]
    }
   ],
   "source": [
    "print(leftImage.GetDirection())\n",
    "print(leftImage.GetOrigin())\n",
    "print(leftImage.GetSpacing())\n",
    "print(leftImage.GetSize())\n",
    "print(leftImageArray.shape)"
   ]
  },
  {
   "cell_type": "code",
   "execution_count": 67,
   "metadata": {},
   "outputs": [],
   "source": [
    "def saveSliceImage256(imgArray, img, savePath, interpolation):\n",
    "    argMax = np.argmax(np.array(imgArray.shape))\n",
    "    \n",
    "    if argMax == 0:\n",
    "        axisSize = imgArray.shape[0]\n",
    "        dummyArray = np.zeros((axisSize, 256, 256))\n",
    "        resizedImgArray = Resizing(imgArray, dummyArray, interpolation)\n",
    "        \n",
    "        for x in range(axisSize):\n",
    "            saveSlicePath = savePath + str(x).zfill(3) + \".mha\"\n",
    "            createParentPath(saveSlicePath)\n",
    "            resizedImg = sitk.GetImageFromArray(resizedImgArray[x, :, :])\n",
    "            \n",
    "            direction = (0.0, 1.0, -1.0, 0.0)\n",
    "            origin = img.GetOrigin()[:2]\n",
    "            spacing = img.GetSpacing()[:2]\n",
    "            \n",
    "            resizedImg.SetDirection(direction)\n",
    "            resizedImg.SetOrigin(origin)\n",
    "            resizedImg.SetSpacing(spacing)\n",
    "            \n",
    "            sitk.WriteImage(resizedImg, saveSlicePath)\n",
    "\n",
    "    elif argMax == 1:\n",
    "        axisSize = imgArray.shape[1]\n",
    "        dummyArray = np.zeros((256, axisSize, 256))\n",
    "\n",
    "        resizedImgArray = Resizing(imgArray, dummyArray, interpolation)\n",
    "        \n",
    "        for x in range(axisSize):\n",
    "            \n",
    "            saveSlicePath = savePath + str(x).zfill(3) + \".mha\"\n",
    "            createParentPath(saveSlicePath)\n",
    "            resizedImg = sitk.GetImageFromArray(resizedImgArray[:, x, :])\n",
    "            \n",
    "            direction = (0.0, 1.0, -1.0, 0.0)\n",
    "            origin = (img.GetOrigin()[0], img.GetOrigin()[2])\n",
    "            spacing = (img.GetSpacing()[0], img.GetSpacing()[2])\n",
    "            \n",
    "            resizedImg.SetDirection(direction)\n",
    "            resizedImg.SetOrigin(origin)\n",
    "            resizedImg.SetSpacing(spacing)\n",
    "            \n",
    "            sitk.WriteImage(resizedImg, saveSlicePath)\n",
    "\n",
    "            \n",
    "    else:\n",
    "        axisSize = imgArray.shape[2]\n",
    "        dummyArray = np.zeros((256, 256, axisSize))\n",
    "\n",
    "        resizedImgArray = Resizing(imgArray, dummyArray, interpolation)\n",
    "        \n",
    "        for x in range(axisSize):\n",
    "            \n",
    "            saveSlicePath = savePath + str(x).zfill(3) + \".mha\"\n",
    "            createParentPath(saveSlicePath)\n",
    "            resizedImg = sitk.GetImageFromArray(resizedImgArray[:, :, x])\n",
    "            \n",
    "            direction = (0.0, 1.0, -1.0, 0.0)\n",
    "            origin = img.GetOrigin()[1:]\n",
    "            spacing = img.GetSpacing()[1:]\n",
    "            \n",
    "            resizedImg.SetDirection(direction)\n",
    "            resizedImg.SetOrigin(origin)\n",
    "            resizedImg.SetSpacing(spacing)\n",
    "            \n",
    "            sitk.WriteImage(resizedImg, saveSlicePath)\n",
    "\n"
   ]
  },
  {
   "cell_type": "code",
   "execution_count": 68,
   "metadata": {},
   "outputs": [
    {
     "name": "stdout",
     "output_type": "stream",
     "text": [
      "magnification :  [3.28205128 1.         9.84615385]\n",
      "Transorm source image From (78, 108, 26) shape into (256, 108, 256) shape\n",
      "zoomedArray shape :  (256, 108, 256)\n",
      "magnification :  [3.28205128 1.         9.84615385]\n",
      "Transorm source image From (78, 108, 26) shape into (256, 108, 256) shape\n",
      "zoomedArray shape :  (256, 108, 256)\n",
      "magnification :  [1.         4.06349206 4.57142857]\n",
      "Transorm source image From (79, 63, 56) shape into (79, 256, 256) shape\n",
      "zoomedArray shape :  (79, 256, 256)\n",
      "magnification :  [1.         4.06349206 4.57142857]\n",
      "Transorm source image From (79, 63, 56) shape into (79, 256, 256) shape\n",
      "zoomedArray shape :  (79, 256, 256)\n"
     ]
    }
   ],
   "source": [
    "savePath = \"test/case_00000\"\n",
    "\n",
    "saveLeftLabelPath = savePath + \"/left_label_\"\n",
    "saveLeftImagePath = savePath +  \"/left_image_\"\n",
    "saveRightLabelPath = savePath + \"/right_label_\"\n",
    "saveRightImagePath = savePath + \"/right_image_\"\n",
    "\n",
    "saveSliceImage256(leftLabelArray, leftLabel, saveLeftLabelPath, \"nearest\")\n",
    "saveSliceImage256(leftImageArray, leftImage, saveLeftImagePath, \"linear\")\n",
    "saveSliceImage256(rightLabelArray, rightLabel, saveRightLabelPath, \"nearest\")\n",
    "saveSliceImage256(rightImageArray, rightImage, saveRightImagePath, \"linear\")"
   ]
  },
  {
   "cell_type": "code",
   "execution_count": 1,
   "metadata": {},
   "outputs": [],
   "source": [
    "import os"
   ]
  },
  {
   "cell_type": "code",
   "execution_count": 144,
   "metadata": {},
   "outputs": [],
   "source": [
    "def ReadSliceDataList6ch_1ch(filename1, filename2):\n",
    "    datalist1 = []\n",
    "    datalist2 = []\n",
    "    #Read datalist\n",
    "    with open(filename1) as f:\n",
    "        for line in f:\n",
    "            labelfile, imagefile = line.strip().split('\\t')\n",
    "            datalist1.append((imagefile, labelfile))\n",
    "    \n",
    "    with open(filename2) as f:\n",
    "        for line in f:\n",
    "            labelfile, imagefile = line.strip().split('\\t')\n",
    "            datalist2.append((imagefile, labelfile))\n",
    "\n",
    "            \n",
    "    pathDicImg = {}#{~/case_00000/image0 : ~/case_00000/image0_00.mha}\n",
    "    labellist = {}\n",
    "    pathList = []#3枚ごとにまとめられたリスト(image,label)\n",
    "\n",
    "    #パスを同じ腎臓ごとにまとめる\n",
    "    for path in datalist1:\n",
    "        dicPathI, filePathI = os.path.split(path[0])\n",
    "        fI,nameI = filePathI.split(\"_\")\n",
    "        fPathI = os.path.join(dicPathI, fI)\n",
    "        print(fPathI)\n",
    "        \n",
    "\n",
    "        if fPathI not in pathDicImg:\n",
    "            pathDicImg[fPathI] = []\n",
    "            labellist[fPathI] = []\n",
    "\n",
    "        pathDicImg[fPathI].append(path[0])\n",
    "        labellist[fPathI].append(path[1])\n",
    "    print(pathDicImg)\n",
    "\n",
    "    #同じ腎臓の中で、あるスライスと前後2枚をくっつける(path)\n",
    "\n",
    "    for (keyI, valueI),(labkey, labvalue) in zip(pathDicImg.items(), labellist.items()):\n",
    "        valueI = sorted(valueI)\n",
    "        labvalue = sorted(labvalue)\n",
    "        for x in range(len(valueI)):\n",
    "            if x==0:\n",
    "                \n",
    "                pathList.append(([None] + valueI[x:x+2], labvalue[x]))\n",
    "            elif x == (len(valueI) - 1):\n",
    "                pathList.append((valueI[x-1:x+1] + [None], labvalue[x]))\n",
    "            \n",
    "            else:\n",
    "                pathList.append((valueI[x-1:x+2], labvalue[x]))\n",
    "   \n",
    "    return pathList"
   ]
  },
  {
   "cell_type": "code",
   "execution_count": 15,
   "metadata": {},
   "outputs": [
    {
     "name": "stdout",
     "output_type": "stream",
     "text": [
      "test/left/test1.txt\n"
     ]
    },
    {
     "ename": "IndexError",
     "evalue": "string index out of range",
     "output_type": "error",
     "traceback": [
      "\u001b[0;31m---------------------------------------------------------------------------\u001b[0m",
      "\u001b[0;31mIndexError\u001b[0m                                Traceback (most recent call last)",
      "\u001b[0;32m<ipython-input-15-e5dde44c1bc9>\u001b[0m in \u001b[0;36m<module>\u001b[0;34m\u001b[0m\n\u001b[0;32m----> 1\u001b[0;31m \u001b[0mdatalist\u001b[0m \u001b[0;34m=\u001b[0m \u001b[0mReadSliceDataList6ch_1ch\u001b[0m\u001b[0;34m(\u001b[0m\u001b[0;34m\"test/left/test1.txt\"\u001b[0m\u001b[0;34m,\u001b[0m \u001b[0;34m\"test/right/test2.txt\"\u001b[0m\u001b[0;34m)\u001b[0m\u001b[0;34m\u001b[0m\u001b[0;34m\u001b[0m\u001b[0m\n\u001b[0m",
      "\u001b[0;32m<ipython-input-13-083dd8fad190>\u001b[0m in \u001b[0;36mReadSliceDataList6ch_1ch\u001b[0;34m(filename1, filename2)\u001b[0m\n\u001b[1;32m     15\u001b[0m             \u001b[0mdataList2\u001b[0m\u001b[0;34m.\u001b[0m\u001b[0mappend\u001b[0m\u001b[0;34m(\u001b[0m\u001b[0;34m(\u001b[0m\u001b[0mimagefile\u001b[0m\u001b[0;34m,\u001b[0m \u001b[0mlabelfile\u001b[0m\u001b[0;34m)\u001b[0m\u001b[0;34m)\u001b[0m\u001b[0;34m\u001b[0m\u001b[0;34m\u001b[0m\u001b[0m\n\u001b[1;32m     16\u001b[0m \u001b[0;34m\u001b[0m\u001b[0m\n\u001b[0;32m---> 17\u001b[0;31m     \u001b[0mimageDict1\u001b[0m\u001b[0;34m,\u001b[0m \u001b[0mlabelDict1\u001b[0m \u001b[0;34m=\u001b[0m \u001b[0mmakeDict\u001b[0m\u001b[0;34m(\u001b[0m\u001b[0mfilename1\u001b[0m\u001b[0;34m)\u001b[0m\u001b[0;34m\u001b[0m\u001b[0;34m\u001b[0m\u001b[0m\n\u001b[0m\u001b[1;32m     18\u001b[0m     \u001b[0mimageDict2\u001b[0m\u001b[0;34m,\u001b[0m \u001b[0mlabelDict2\u001b[0m \u001b[0;34m=\u001b[0m \u001b[0mmakeDict\u001b[0m\u001b[0;34m(\u001b[0m\u001b[0mfilename2\u001b[0m\u001b[0;34m)\u001b[0m\u001b[0;34m\u001b[0m\u001b[0;34m\u001b[0m\u001b[0m\n\u001b[1;32m     19\u001b[0m \u001b[0;34m\u001b[0m\u001b[0m\n",
      "\u001b[0;32m<ipython-input-12-5f783d346e5b>\u001b[0m in \u001b[0;36mmakeDict\u001b[0;34m(datalist)\u001b[0m\n\u001b[1;32m     12\u001b[0m \u001b[0;34m\u001b[0m\u001b[0m\n\u001b[1;32m     13\u001b[0m         \u001b[0mimageDict\u001b[0m\u001b[0;34m[\u001b[0m\u001b[0mparentPath\u001b[0m\u001b[0;34m]\u001b[0m\u001b[0;34m.\u001b[0m\u001b[0mappend\u001b[0m\u001b[0;34m(\u001b[0m\u001b[0mdata\u001b[0m\u001b[0;34m[\u001b[0m\u001b[0;36m0\u001b[0m\u001b[0;34m]\u001b[0m\u001b[0;34m)\u001b[0m\u001b[0;34m\u001b[0m\u001b[0;34m\u001b[0m\u001b[0m\n\u001b[0;32m---> 14\u001b[0;31m         \u001b[0mlabelDict\u001b[0m\u001b[0;34m[\u001b[0m\u001b[0mparentPath\u001b[0m\u001b[0;34m]\u001b[0m\u001b[0;34m.\u001b[0m\u001b[0mappend\u001b[0m\u001b[0;34m(\u001b[0m\u001b[0mdata\u001b[0m\u001b[0;34m[\u001b[0m\u001b[0;36m1\u001b[0m\u001b[0;34m]\u001b[0m\u001b[0;34m)\u001b[0m\u001b[0;34m\u001b[0m\u001b[0;34m\u001b[0m\u001b[0m\n\u001b[0m\u001b[1;32m     15\u001b[0m \u001b[0;34m\u001b[0m\u001b[0m\n\u001b[1;32m     16\u001b[0m     \u001b[0;32mreturn\u001b[0m \u001b[0mimageDict\u001b[0m\u001b[0;34m,\u001b[0m \u001b[0mlabelDict\u001b[0m\u001b[0;34m\u001b[0m\u001b[0;34m\u001b[0m\u001b[0m\n",
      "\u001b[0;31mIndexError\u001b[0m: string index out of range"
     ]
    }
   ],
   "source": [
    "datalist = ReadSliceDataList6ch_1ch(\"test/left/test1.txt\", \"test/right/test2.txt\")"
   ]
  },
  {
   "cell_type": "code",
   "execution_count": 1,
   "metadata": {},
   "outputs": [],
   "source": [
    "from pathlib import Path"
   ]
  },
  {
   "cell_type": "code",
   "execution_count": 2,
   "metadata": {},
   "outputs": [],
   "source": [
    "def makeDict(datalist):\n",
    "    imageDict = {}#{~/case_00000/image0 : ~/case_00000/image0_00.mha}\n",
    "    labelDict = {}\n",
    "    #パスを同じ腎臓ごとにまとめる\n",
    "    for data in datalist:\n",
    "        parentPath = Path(data[0]).parent        \n",
    "        \n",
    "        if str(parentPath) not in imageDict:\n",
    "            imageDict[str(parentPath)] = []\n",
    "            labelDict[str(parentPath)] = []\n",
    "\n",
    "        imageDict[str(parentPath)].append(data[0])\n",
    "        labelDict[str(parentPath)].append(data[1])\n",
    "    \n",
    "    return imageDict, labelDict"
   ]
  },
  {
   "cell_type": "code",
   "execution_count": 3,
   "metadata": {},
   "outputs": [],
   "source": [
    "def make3ch_1chList(imageList, labelList):\n",
    "    pathList = []\n",
    "    length = len(imageList)\n",
    "    \n",
    "    imageList = sorted(imageList)\n",
    "    labelPath = sorted(labelList)\n",
    "    \n",
    "    for x in range(length):\n",
    "        if x == 0:\n",
    "            pathList.append(([None] + imageList[x : x + 2], labelList[x]))\n",
    "        \n",
    "        elif x == length - 1:\n",
    "            pathList.append((imageList[x - 1 : x + 1] + [None], labelList[x]))\n",
    "        \n",
    "        else:\n",
    "            pathList.append((imageList[x - 1 : x + 2], labelList[x]))\n",
    "        \n",
    "    return pathList"
   ]
  },
  {
   "cell_type": "code",
   "execution_count": 4,
   "metadata": {},
   "outputs": [],
   "source": [
    "def ReadSliceDataList6ch_1ch(filename1, filename2):\n",
    "    dataList1 = []\n",
    "    dataList2 = []\n",
    "    \n",
    "    pathList = []\n",
    "    #Read datalist\n",
    "    with open(filename1) as f:\n",
    "        for line in f:\n",
    "            labelfile, imagefile = line.strip().split('\\t')\n",
    "            dataList1.append((imagefile, labelfile))\n",
    "    \n",
    "    with open(filename2) as f:\n",
    "        for line in f:\n",
    "            labelfile, imagefile = line.strip().split('\\t')\n",
    "            dataList2.append((imagefile, labelfile))\n",
    "\n",
    "    imageDict1, labelDict1 = makeDict(dataList1)\n",
    "    imageDict2, labelDict2 = makeDict(dataList2)\n",
    "\n",
    "    for id1 in imageDict1.keys():\n",
    "        for id2 in imageDict2.keys():\n",
    "            lastDict1 = id1.split(\"/\")\n",
    "            lastDict2 = id2.split(\"/\")\n",
    "            \n",
    "            if lastDict1[-2] == lastDict2[-2]:\n",
    "                if lastDict1[-1] != lastDict2[-1]:\n",
    "                    pathList1 = make3ch_1chList(imageDict1[id1], labelDict1[id1])\n",
    "                    pathList2 = make3ch_1chList(imageDict2[id2], labelDict2[id2])\n",
    "\n",
    "                    for path1, path2 in zip(pathList1, pathList2):\n",
    "                        imageList = path1[0] + path2[0]\n",
    "                        labelList = path1[1]\n",
    "\n",
    "                        pathList.append((imageList, labelList))\n",
    "        \n",
    "    return pathList"
   ]
  },
  {
   "cell_type": "code",
   "execution_count": 5,
   "metadata": {},
   "outputs": [],
   "source": [
    "# test1 : marge /original/left.txt with /original/right.txt.\n",
    "# test2 : marge /transform/right.txt with /transform/left.txt.(Reverse)\n",
    "datalist = ReadSliceDataList6ch_1ch(\"test/slice/original/path/case_00120.txt\", \"test/slice/transform/path/case_00120.txt\")"
   ]
  },
  {
   "cell_type": "code",
   "execution_count": 8,
   "metadata": {},
   "outputs": [],
   "source": [
    "def ReadSliceDataList6ch_1ch(filename1, filename2):\n",
    "    dataList1 = []\n",
    "    dataList2 = []\n",
    "    \n",
    "    pathList = []\n",
    "    #Read datalist\n",
    "    with open(filename1) as f:\n",
    "        for line in f:\n",
    "            labelfile, imagefile = line.strip().split('\\t')\n",
    "            dataList1.append((imagefile, labelfile))\n",
    "    \n",
    "    with open(filename2) as f:\n",
    "        for line in f:\n",
    "            labelfile, imagefile = line.strip().split('\\t')\n",
    "            dataList2.append((imagefile, labelfile))\n",
    "\n",
    "    pathList1 = make3ch_1chList(dataList1)\n",
    "    pathList2 = make3ch_1chList(dataList2)\n",
    "    \n",
    "    for path1, path2 in zip(pathList1, pathList2):\n",
    "        imageList = path1[0] + path2[0]\n",
    "        labelList = path1[1]\n",
    "        \n",
    "        pathList.append((imageList, labelList))\n",
    "        \n",
    "    return pathList"
   ]
  },
  {
   "cell_type": "code",
   "execution_count": 6,
   "metadata": {},
   "outputs": [],
   "source": [
    "from loader import ImportImageTransformed3d\n",
    "import numpy as np\n",
    "import SimpleITK as sitk"
   ]
  },
  {
   "cell_type": "code",
   "execution_count": 6,
   "metadata": {},
   "outputs": [],
   "source": [
    "def ImportImageTransformed3d(imagefile, labelfile):\n",
    "    translationrange = 0 # [mm]\n",
    "    rotrange = 15 # [deg]\n",
    "    shearrange = 0\n",
    "    scalerange = 0.05\n",
    "\n",
    "    # Affine parameters\n",
    "    translation = np.random.uniform(-translationrange, translationrange, 2)\n",
    "    rotation = np.radians(np.random.uniform(-rotrange, rotrange))\n",
    "    shear = np.random.uniform(-shearrange, shearrange, 2)\n",
    "    scale = np.random.uniform(1-scalerange, 1+scalerange)\n",
    "    \n",
    "    #label(1ch)\n",
    "    label = sitk.ReadImage(labelfile)\n",
    "    center = np.array(label.GetSize()) * np.array(label.GetSpacing()) / 2\n",
    "\n",
    "    \n",
    "    affine = Affine(translation, rotation, scale, shear, center)\n",
    "    transformed_label = Transforming3d(label, affine, sitk.sitkNearestNeighbor, 0)\n",
    "    labelarry = sitk.GetArrayFromImage(transformed_label)\n",
    "    \n",
    "    #image(3ch)\n",
    "    check = False\n",
    "    for img in imagefile:\n",
    "        if img is None:\n",
    "            imagearry = np.zeros_like(labelarry) - 1024.0\n",
    "            minval = -1024.0\n",
    "        else:\n",
    "            image = sitk.ReadImage(img)\n",
    "            minval = GetMinimumValue(image)\n",
    "\n",
    "            transformed_image = Transforming3d(image, affine, sitk.sitkLinear, minval)\n",
    "            imagearry = sitk.GetArrayFromImage(transformed_image)\n",
    "        \n",
    "        if not check:\n",
    "            check = True\n",
    "            stackedArray = imagearry\n",
    "\n",
    "        else:\n",
    "            stackedArray = np.dstack([stackedArray, imagearry])\n",
    "    \n",
    "    \n",
    "\n",
    "    return stackedArray, labelarry"
   ]
  },
  {
   "cell_type": "code",
   "execution_count": 13,
   "metadata": {},
   "outputs": [],
   "source": [
    "def ImportImage3ch(pList):#[[\"case_00000/image0_00.mha\", \"case_00000/image0_01.mha\", \"case_00000/image0_02.mha\"],\\\n",
    "                          # [\"case_00000/image0_01.mha\", \"case_00000/image0_02.mha\", \"case_00000/image0_03.mha\"]...]\n",
    "    \n",
    "    stacked = False\n",
    "    dummy = sitk.GetArrayFromImage(sitk.ReadImage(pList[1]))\n",
    "\n",
    "    for x in pList:\n",
    "        if x is None:\n",
    "            imgArray = np.zeros_like(dummy) - 1024.0\n",
    "            minval = -1024.0\n",
    "        else:\n",
    "            img = sitk.ReadImage(x)\n",
    "            imgArray = sitk.GetArrayFromImage(img)\n",
    "\n",
    "        if not stacked:\n",
    "            stacked = True\n",
    "            stackedArray = imgArray\n",
    "\n",
    "        else:\n",
    "            stackedArray = np.dstack([stackedArray, imgArray])\n",
    "    \n",
    "    \n",
    "    return stackedArray"
   ]
  },
  {
   "cell_type": "code",
   "execution_count": 17,
   "metadata": {},
   "outputs": [
    {
     "data": {
      "text/plain": [
       "(256, 256, 6)"
      ]
     },
     "execution_count": 17,
     "metadata": {},
     "output_type": "execute_result"
    }
   ],
   "source": [
    "ImportImage3ch(datalist[0][0]).shape"
   ]
  },
  {
   "cell_type": "code",
   "execution_count": null,
   "metadata": {},
   "outputs": [],
   "source": []
  },
  {
   "cell_type": "code",
   "execution_count": 241,
   "metadata": {},
   "outputs": [],
   "source": [
    "import SimpleITK as sitk"
   ]
  },
  {
   "cell_type": "code",
   "execution_count": 242,
   "metadata": {},
   "outputs": [
    {
     "name": "stdout",
     "output_type": "stream",
     "text": [
      "(95, 545, 545)\n",
      "(3.0, 0.781624972820282, 0.781624972820282)\n"
     ]
    },
    {
     "data": {
      "text/plain": [
       "9"
      ]
     },
     "execution_count": 242,
     "metadata": {},
     "output_type": "execute_result"
    }
   ],
   "source": [
    "img = sitk.ReadImage(\"/Users/tanimotoryou/Documents/lab/program/case_00120/imaging.nii.gz\")\n",
    "print(img.GetSize())\n",
    "print(img.GetSpacing())\n",
    "img.GetPixelIDValue()\n"
   ]
  },
  {
   "cell_type": "code",
   "execution_count": null,
   "metadata": {},
   "outputs": [],
   "source": [
    "def Resampling(image, newsize, roisize, origin = None, is_label = False):\n",
    "    #isize = image.GetSize()\n",
    "    ivs = image.GetSpacing()\n",
    "    \n",
    "    if image.GetNumberOfComponentsPerPixel() == 1:\n",
    "        minmax = sitk.MinimumMaximumImageFilter()\n",
    "        minmax.Execute(image)\n",
    "        minval = minmax.GetMinimum()\n",
    "    else:\n",
    "        minval = None\n",
    "    \n",
    "    osize = newsize\n",
    "    \n",
    "\n",
    "    \n",
    "    ovs = [ vs * s / os for vs, s, os in zip(ivs, roisize, osize) ]\n",
    "    \n",
    "\n",
    "    resampler = sitk.ResampleImageFilter()\n",
    "    resampler.SetSize(osize)\n",
    "    if origin is not None:\n",
    "        resampler.SetOutputOrigin(origin)\n",
    "    else:\n",
    "        resampler.SetOutputOrigin(image.GetOrigin())\n",
    "    resampler.SetOutputDirection(image.GetDirection())\n",
    "    resampler.SetOutputSpacing(ovs)\n",
    "    if minval is not None:\n",
    "        resampler.SetDefaultPixelValue(minval)\n",
    "    if is_label:\n",
    "        resampler.SetInterpolator(sitk.sitkNearestNeighbor)\n",
    "\n",
    "    resampled = resampler.Execute(image)\n",
    "\n",
    "    return resampled"
   ]
  },
  {
   "cell_type": "code",
   "execution_count": 253,
   "metadata": {},
   "outputs": [],
   "source": []
  },
  {
   "cell_type": "code",
   "execution_count": 257,
   "metadata": {},
   "outputs": [
    {
     "name": "stdout",
     "output_type": "stream",
     "text": [
      "Change shape from (95, 545, 545) to [286, 426, 426].\n",
      "Change spacing from (3.0, 0.781624972820282, 0.781624972820282) to (1.0, 1.0, 1.0).\n"
     ]
    },
    {
     "data": {
      "text/plain": [
       "(1.0, 1.0, 1.0)"
      ]
     },
     "execution_count": 257,
     "metadata": {},
     "output_type": "execute_result"
    }
   ],
   "source": [
    "resampledImg = changeSpacing(img, (1.0, 1.0, 1.0))"
   ]
  },
  {
   "cell_type": "code",
   "execution_count": 217,
   "metadata": {},
   "outputs": [
    {
     "data": {
      "text/plain": [
       "[285.0, 425.9856101870537, 425.9856101870537]"
      ]
     },
     "execution_count": 217,
     "metadata": {},
     "output_type": "execute_result"
    }
   ],
   "source": [
    "[ x * y for x, y in zip(img.GetSize(), img.GetSpacing())]"
   ]
  },
  {
   "cell_type": "code",
   "execution_count": 1,
   "metadata": {},
   "outputs": [],
   "source": [
    "import numpy as np"
   ]
  },
  {
   "cell_type": "code",
   "execution_count": 5,
   "metadata": {},
   "outputs": [
    {
     "data": {
      "text/plain": [
       "(2, 3, 4, 5)"
      ]
     },
     "execution_count": 5,
     "metadata": {},
     "output_type": "execute_result"
    }
   ],
   "source": [
    "a = np.zeros((2,3,4,5))\n",
    "a.shape"
   ]
  },
  {
   "cell_type": "code",
   "execution_count": 7,
   "metadata": {},
   "outputs": [
    {
     "data": {
      "text/plain": [
       "(2, 3, 4, 5)"
      ]
     },
     "execution_count": 7,
     "metadata": {},
     "output_type": "execute_result"
    }
   ],
   "source": [
    "l = []\n",
    "for x in range(5):\n",
    "    l.append(a[..., x])\n",
    "\n",
    "b = np.stack(l, axis=-1)\n",
    "b.shape"
   ]
  },
  {
   "cell_type": "code",
   "execution_count": 34,
   "metadata": {},
   "outputs": [
    {
     "name": "stdout",
     "output_type": "stream",
     "text": [
      "(2, 3, 4, 1) (2, 3, 4, 1)\n",
      "(2, 3, 4, 2)\n",
      "(2, 3, 4, 2) (2, 3, 4, 1)\n",
      "(2, 3, 4, 3)\n",
      "(2, 3, 4, 3) (2, 3, 4, 1)\n",
      "(2, 3, 4, 4)\n",
      "(2, 3, 4, 4) (2, 3, 4, 1)\n",
      "(2, 3, 4, 5)\n"
     ]
    }
   ],
   "source": [
    "check = True\n",
    "for x in range(5):\n",
    "    if check:\n",
    "        b = np.clip(a[..., x : x + 1], 1, 2)\n",
    "        check = False\n",
    "    \n",
    "    else:\n",
    "        print(b.shape, a[..., x : x + 1].shape)\n",
    "        b = np.concatenate([b, np.clip(a[..., x : x + 1], 1, 2)], axis=-1)\n",
    "        print(b.shape)"
   ]
  },
  {
   "cell_type": "code",
   "execution_count": 17,
   "metadata": {},
   "outputs": [],
   "source": [
    "import SimpleITK as sitk\n",
    "from effect import equalizingHistogram\n",
    "import numpy as np\n",
    "from functions import saveImage"
   ]
  },
  {
   "cell_type": "code",
   "execution_count": 14,
   "metadata": {},
   "outputs": [
    {
     "data": {
      "text/plain": [
       "(77, 82, 53)"
      ]
     },
     "execution_count": 14,
     "metadata": {},
     "output_type": "execute_result"
    }
   ],
   "source": [
    "img = sitk.ReadImage(\"/home/vmlab/Desktop/data/box/case_00120/image_left.nii.gz\")\n",
    "imgArray = sitk.GetArrayFromImage(img)\n",
    "imgArray.shape"
   ]
  },
  {
   "cell_type": "code",
   "execution_count": 9,
   "metadata": {},
   "outputs": [],
   "source": [
    "imgList = []\n",
    "for x in range(len(imgArray[:,0,0])):\n",
    "    imgList.append(imgArray[x, :, :].astype(int))"
   ]
  },
  {
   "cell_type": "code",
   "execution_count": 10,
   "metadata": {},
   "outputs": [
    {
     "name": "stdout",
     "output_type": "stream",
     "text": [
      "[0. 0. 0. ... 0. 0. 0.]\n",
      "[0. 0. 0. ... 0. 0. 0.]\n"
     ]
    }
   ],
   "source": [
    "eqList = equalizingHistogram(imgList, 0.0)"
   ]
  },
  {
   "cell_type": "code",
   "execution_count": 15,
   "metadata": {},
   "outputs": [],
   "source": [
    "eqArray = np.stack(eqList, axis=0)"
   ]
  },
  {
   "cell_type": "code",
   "execution_count": 21,
   "metadata": {},
   "outputs": [],
   "source": [
    "eqArray.shape\n",
    "eq = sitk.GetImageFromArray(eqArray)"
   ]
  },
  {
   "cell_type": "code",
   "execution_count": 22,
   "metadata": {},
   "outputs": [
    {
     "name": "stdout",
     "output_type": "stream",
     "text": [
      "Saving image to test/test.mha...\n",
      "Done.\n"
     ]
    }
   ],
   "source": [
    "saveImage(eq, img, 'test/test.mha')"
   ]
  },
  {
   "cell_type": "code",
   "execution_count": 19,
   "metadata": {},
   "outputs": [
    {
     "name": "stdout",
     "output_type": "stream",
     "text": [
      "Help on function saveImage in module functions:\n",
      "\n",
      "saveImage(saveImg, img, savePath)\n",
      "\n"
     ]
    }
   ],
   "source": [
    "help(saveImage)"
   ]
  },
  {
   "cell_type": "code",
   "execution_count": 7,
   "metadata": {},
   "outputs": [],
   "source": [
    "import SimpleITK as sitk\n",
    "import matplotlib.pyplot as plt"
   ]
  },
  {
   "cell_type": "code",
   "execution_count": 8,
   "metadata": {},
   "outputs": [],
   "source": [
    "import numpy as np\n",
    "from functions import DICEVersion2, DICE\n",
    "from mpl_toolkits.mplot3d import Axes3D"
   ]
  },
  {
   "cell_type": "code",
   "execution_count": 30,
   "metadata": {},
   "outputs": [],
   "source": [
    "img1 = sitk.ReadImage(\"/Users/tanimotoryou/Documents/lab/program/case_00120/segmentation.nii.gz\")\n",
    "#img2 = sitk.ReadImage(\"/home/vmlab/Desktop/data/slice/summed_hist_float_1.0/segmentation/1/case_00000/label.mha\")"
   ]
  },
  {
   "cell_type": "code",
   "execution_count": 31,
   "metadata": {},
   "outputs": [],
   "source": [
    "img1Array = sitk.GetArrayFromImage(img1)\n",
    "#img2Array = sitk.GetArrayFromImage(img2)"
   ]
  },
  {
   "cell_type": "code",
   "execution_count": 32,
   "metadata": {},
   "outputs": [
    {
     "data": {
      "text/plain": [
       "(array([144, 144, 144, ..., 409, 409, 409]),\n",
       " array([273, 274, 276, ..., 300, 301, 302]),\n",
       " array([65, 65, 65, ..., 65, 65, 66]))"
      ]
     },
     "execution_count": 32,
     "metadata": {},
     "output_type": "execute_result"
    }
   ],
   "source": [
    "idx = np.where(img1Array > 0)\n",
    "idx"
   ]
  },
  {
   "cell_type": "code",
   "execution_count": 57,
   "metadata": {},
   "outputs": [
    {
     "data": {
      "text/plain": [
       "<mpl_toolkits.mplot3d.art3d.Path3DCollection at 0x17bbb3ed0>"
      ]
     },
     "execution_count": 57,
     "metadata": {},
     "output_type": "execute_result"
    },
    {
     "data": {
      "image/png": "[encoded data removed]",
      "text/plain": [
       "<Figure size 432x288 with 1 Axes>"
      ]
     },
     "metadata": {},
     "output_type": "display_data"
    }
   ],
   "source": [
    "fig = plt.figure()\n",
    "ax = Axes3D(fig)\n",
    "\n",
    "ax.set_xticks([])\n",
    "ax.set_yticks([])\n",
    "ax.set_zticks([])\n",
    "ax.view_init(elev=30, azim=50)\n",
    "ax.scatter(idx[0], idx[1], idx[2],marker=\"o\",linestyle='None', linewidth=0.1, alpha=0.1)"
   ]
  },
  {
   "cell_type": "code",
   "execution_count": 1,
   "metadata": {},
   "outputs": [],
   "source": [
    "from matplotlib import pyplot as plt\n",
    "from functions import advancedSettings"
   ]
  },
  {
   "cell_type": "code",
   "execution_count": 7,
   "metadata": {},
   "outputs": [
    {
     "data": {
      "image/png": "[encoded data removed]",
      "text/plain": [
       "<Figure size 432x288 with 1 Axes>"
      ]
     },
     "metadata": {
      "needs_background": "light"
     },
     "output_type": "display_data"
    }
   ],
   "source": [
    "results = [0.427, 0.497]\n",
    "\n",
    "plt.bar([\"Not aligend\", \"Aligned\"], results)\n",
    "plt.ylim([0, 1.0])\n",
    "for x, y in zip(range(3), results):\n",
    "    plt.text(x, y, y, ha='center', va='bottom', fontsize=20)\n",
    "advancedSettings(\"\", \"DICE\")\n",
    "\n"
   ]
  },
  {
   "cell_type": "code",
   "execution_count": 2,
   "metadata": {},
   "outputs": [
    {
     "data": {
      "image/png": "[encoded data removed]",
      "text/plain": [
       "<Figure size 432x288 with 1 Axes>"
      ]
     },
     "metadata": {
      "needs_background": "light"
     },
     "output_type": "display_data"
    }
   ],
   "source": [
    "results = [0.0737, 0.119, 0.211]\n",
    "\n",
    "plt.bar([\"3ch\", \"6ch\", \"Previous\"], results)\n",
    "plt.ylim([0, 0.3])\n",
    "for x, y in zip(range(3), results):\n",
    "    plt.text(x, y, y, ha='center', va='bottom', fontsize=20)\n",
    "advancedSettings(\"\", \"DICE\")\n"
   ]
  },
  {
   "cell_type": "code",
   "execution_count": 13,
   "metadata": {},
   "outputs": [
    {
     "data": {
      "image/png": "[encoded data removed]",
      "text/plain": [
       "<Figure size 432x288 with 1 Axes>"
      ]
     },
     "metadata": {
      "needs_background": "light"
     },
     "output_type": "display_data"
    }
   ],
   "source": [
    "results = [0.164, 0.212]\n",
    "\n",
    "plt.bar([\"Not aligned\", \"Aligned\"], results)\n",
    "plt.ylim([0, 0.3])\n",
    "for x, y in zip(range(3), results):\n",
    "    plt.text(x, y, y, ha='center', va='bottom', fontsize=20)\n",
    "advancedSettings(\"\", \"DICE\")"
   ]
  },
  {
   "cell_type": "code",
   "execution_count": 14,
   "metadata": {},
   "outputs": [
    {
     "data": {
      "image/png": "[encoded data removed]",
      "text/plain": [
       "<Figure size 432x288 with 1 Axes>"
      ]
     },
     "metadata": {
      "needs_background": "light"
     },
     "output_type": "display_data"
    }
   ],
   "source": [
    "results = [0.968, 0.977]\n",
    "plt.bar([\"Not Aligned\", \"Aligned\"], results)\n",
    "plt.ylim([0.0, 1.1])\n",
    "for x, y in zip(range(3), results):\n",
    "    plt.text(x, y, y, ha='center', va='bottom', fontsize=20)\n",
    "advancedSettings(\"\", \"DICE\")"
   ]
  },
  {
   "cell_type": "code",
   "execution_count": 5,
   "metadata": {},
   "outputs": [
    {
     "data": {
      "image/png": "[encoded data removed]",
      "text/plain": [
       "<Figure size 432x288 with 1 Axes>"
      ]
     },
     "metadata": {
      "needs_background": "light"
     },
     "output_type": "display_data"
    }
   ],
   "source": [
    "results = [0.164, 0.212, 0.646]\n",
    "\n",
    "plt.bar([\"Not aligned\", \"Aligned\", \"All of data\"], results)\n",
    "plt.ylim([0, 0.8])\n",
    "for x, y in zip(range(3), results):\n",
    "    plt.text(x, y, y, ha='center', va='bottom', fontsize=20)\n",
    "advancedSettings(\"\", \"DICE\")"
   ]
  },
  {
   "cell_type": "code",
   "execution_count": 27,
   "metadata": {},
   "outputs": [
    {
     "data": {
      "image/png": "[encoded data removed]",
      "text/plain": [
       "<Figure size 720x288 with 1 Axes>"
      ]
     },
     "metadata": {
      "needs_background": "light"
     },
     "output_type": "display_data"
    }
   ],
   "source": [
    "plt.figure(figsize=(10, 4))\n",
    "results = [0.285, 0.223, 0.191]\n",
    "plt.bar([\"Original\", \"Non Linear\", \"Linear + non Linear\"], results)\n",
    "plt.ylim([0.0, 1.1])\n",
    "for x, y in zip(range(3), results):\n",
    "    plt.text(x, y, y, ha='center', va='bottom', fontsize=20)\n",
    "advancedSettings(\"\", \"DICE\")"
   ]
  },
  {
   "cell_type": "code",
   "execution_count": 1,
   "metadata": {},
   "outputs": [
    {
     "name": "stdout",
     "output_type": "stream",
     "text": [
      "000 001 002 003 004 005 006 007 008 009 010 011 012 013 014 015 016 017 018 019 020 021 022 023 024 025 026 027 028 029 030 031 032 033 034 035 036 037 038 039 040 041 042 043 044 045 046 047 048 049 050 051 052 053 054 055 056 057 058 059 060 061 062 063 064 065 066 067 068 069 070 071 072 073 074 075 076 077 078 079 080 081 082 083 084 085 086 087 088 089 090 091 092 093 094 095 096 097 098 099 100 101 102 103 104 105 106 107 108 109 110 111 112 113 114 115 116 117 118 119 120 121 122 123 124 125 126 127 128 129 130 131 132 133 134 135 136 137 138 139 140 141 142 143 144 145 146 147 148 149 150 151 152 153 154 155 156 157 158 159 160 161 162 163 164 165 166 167 168 169 170 171 172 173 174 175 176 177 178 179 180 181 182 183 184 185 186 187 188 189 190 191 192 193 194 195 196 197 198 199 200 201 202 203 204 205 206 207 208 209 "
     ]
    }
   ],
   "source": [
    "for x in range(210):\n",
    "    print(str(x).zfill(3), end=\" \")"
   ]
  },
  {
   "cell_type": "code",
   "execution_count": null,
   "metadata": {},
   "outputs": [],
   "source": []
  },
  {
   "cell_type": "code",
   "execution_count": 1,
   "metadata": {},
   "outputs": [],
   "source": [
    "from loader import ReadSliceDataList, ImportImageTransformed\n",
    "import SimpleITK as sitk\n",
    "import numpy as np\n",
    "from matplotlib import pyplot as plt"
   ]
  },
  {
   "cell_type": "code",
   "execution_count": 2,
   "metadata": {},
   "outputs": [],
   "source": [
    "dataList = ReadSliceDataList(\"test/path/case_00000.txt\")"
   ]
  },
  {
   "cell_type": "code",
   "execution_count": 135,
   "metadata": {},
   "outputs": [],
   "source": [
    "def Affine(t, r, scale, shear, c, dimension):\n",
    "    a = sitk.AffineTransform(dimension)\n",
    "    a.SetCenter(c)\n",
    "    \n",
    "    if dimension == 2:\n",
    "        a.Rotate(0, 1,r)\n",
    "        a.Shear(0,1,shear[0])\n",
    "        a.Shear(1,0,shear[1])\n",
    "        a.Scale(scale)\n",
    "        \n",
    "    elif dimension == 3:\n",
    "        a.Rotate(1, 0, r)\n",
    "        a.Shear(1, 0, shear[0])\n",
    "        a.Shear(0, 1, shear[1])\n",
    "        a.Scale((scale, scale, 1))\n",
    "        \n",
    "    a.Translate(t)\n",
    "    return a\n",
    "\n",
    "def Transforming(image, bspline, affine, interpolator, minval):\n",
    "    # B-spline transformation\n",
    "    if bspline is not None:\n",
    "        transformed_b = sitk.Resample(image, bspline, interpolator, minval)\n",
    "\n",
    "    # Affine transformation\n",
    "        transformed_a = sitk.Resample(transformed_b, affine, interpolator, minval)\n",
    "\n",
    "    else:\n",
    "        transformed_a = sitk.Resample(image, affine, interpolator, minval)\n",
    "\n",
    "    return transformed_a\n",
    "\n",
    "def makeAffineParameters(image, translationRange, rotateRange, shearRange, scaleRange):\n",
    "    dimension = image.GetDimension()\n",
    "    translation = np.random.uniform(-translationRange, translationRange, dimension)\n",
    "    rotation = np.radians(np.random.uniform(-rotateRange, rotateRange))\n",
    "    shear = np.random.uniform(-shearRange, shearRange, 2)\n",
    "    scale = np.random.uniform(1-scaleRange, 1+scaleRange)\n",
    "    center = (np.array(image.GetSize()) * np.array(image.GetSpacing()) / 2)[::-1]\n",
    "    \n",
    "    \n",
    "    return [translation, rotation, scale, shear, center, dimension]\n",
    "\n",
    "def ImportImageTransformed(imagefile, labelfile):\n",
    "    sigma = 0\n",
    "    translationrange = 0 # [mm]\n",
    "    rotrange = 15 # [deg]\n",
    "    shearrange = 0\n",
    "    scalerange = 0.5\n",
    "    bspline = None\n",
    "    \n",
    "    image = sitk.ReadImage(imagefile)\n",
    "    \n",
    "    imageParameters = makeAffineParameters(image, translationrange, rotrange, shearrange, scalerange)\n",
    "    imageAffine = Affine(*imageParameters)\n",
    "\n",
    "    minval = GetMinimumValue(image)\n",
    "    transformed_image = Transforming(image, bspline, imageAffine, sitk.sitkLinear, minval)\n",
    "    imageArray = sitk.GetArrayFromImage(transformed_image)\n",
    "    \n",
    "    if image.GetDimension() != 3:\n",
    "        imagearry = imagearry[..., np.newaxis]\n",
    "        \n",
    "        \n",
    "    label = sitk.ReadImage(labelfile)   \n",
    "    \n",
    "    \n",
    "    labelParameters = imageParameters\n",
    "    dimension = label.GetDimension()\n",
    "    labelParameters[0] = np.random.uniform(-translationrange, translationrange, dimension)\n",
    "    labelParameters[4] = np.array(label.GetSize()) * np.array(label.GetSpacing()) / 2\n",
    "    labelParameters[5] = dimension\n",
    "\n",
    "    \n",
    "    \n",
    "    labelAffine = Affine(*labelParameters)\n",
    "    transformed_label = Transforming(label, bspline, labelAffine, sitk.sitkNearestNeighbor, 0)\n",
    "    labelArray = sitk.GetArrayFromImage(transformed_label)\n",
    "\n",
    "    \n",
    "    return imageArray, labelArray"
   ]
  },
  {
   "cell_type": "code",
   "execution_count": 3,
   "metadata": {},
   "outputs": [],
   "source": [
    "x, y = ImportImageTransformed(*dataList[5])"
   ]
  },
  {
   "cell_type": "code",
   "execution_count": 4,
   "metadata": {},
   "outputs": [
    {
     "data": {
      "text/plain": [
       "<matplotlib.image.AxesImage at 0x115cbe150>"
      ]
     },
     "execution_count": 4,
     "metadata": {},
     "output_type": "execute_result"
    },
    {
     "data": {
      "image/png": "[encoded data removed]",
      "text/plain": [
       "<Figure size 720x720 with 8 Axes>"
      ]
     },
     "metadata": {
      "needs_background": "light"
     },
     "output_type": "display_data"
    }
   ],
   "source": [
    "fig, axes = plt.subplots(2, 4, figsize=(10, 10))\n",
    "l = sitk.ReadImage(dataList[5][0])\n",
    "l = sitk.GetArrayFromImage(l)\n",
    "m = sitk.ReadImage(dataList[5][1])\n",
    "m = sitk.GetArrayFromImage(m)\n",
    "\n",
    "for i in range(3):\n",
    "    axes[0][i].imshow(l[..., i])\n",
    "axes[0][3].imshow(m)\n",
    "\n",
    "for i in range(3):\n",
    "    axes[1][i].imshow(x[..., i])\n",
    "axes[1][3].imshow(y)"
   ]
  },
  {
   "cell_type": "code",
   "execution_count": null,
   "metadata": {},
   "outputs": [],
   "source": [
    "l = sitk.ReadImage(dataList[5][0])\n",
    "m = sitk.ReadImage(dataList[5][1])\n",
    "x = sitk.GetImageFromArray(x)\n",
    "x.SetDirection(l.GetDirection())\n",
    "x.SetOrigin(l.GetOrigin())\n",
    "x.SetSpacing(l.GetSpacing())\n",
    "y = sitk.GetImageFromArray(y)\n",
    "y.SetDirection(m.GetDirection())\n",
    "y.SetOrigin(m.GetOrigin())\n",
    "y.SetSpacing(m.GetSpacing())\n",
    "\n",
    "sitk.WriteImage(x, \"test/x.mha\")\n",
    "sitk.WriteImage(y, \"test/y.mha\")"
   ]
  },
  {
   "cell_type": "code",
   "execution_count": 94,
   "metadata": {},
   "outputs": [
    {
     "name": "stdout",
     "output_type": "stream",
     "text": [
      "Help on function Resample in module SimpleITK.SimpleITK:\n",
      "\n",
      "Resample(*args)\n",
      "    Resample(Image image1, Transform transform, itk::simple::InterpolatorEnum interpolator, double defaultPixelValue=0.0, itk::simple::PixelIDValueEnum outputPixelType) -> Image\n",
      "    Resample(Image image1, Image referenceImage, Transform transform, itk::simple::InterpolatorEnum interpolator, double defaultPixelValue=0.0, itk::simple::PixelIDValueEnum outputPixelType) -> Image\n",
      "    Resample(Image image1, VectorUInt32 size, Transform transform, itk::simple::InterpolatorEnum interpolator, VectorDouble outputOrigin, VectorDouble outputSpacing, VectorDouble outputDirection, double defaultPixelValue=0.0, itk::simple::PixelIDValueEnum outputPixelType) -> Image\n",
      "\n"
     ]
    }
   ],
   "source": [
    "help(sitk.Resample)"
   ]
  },
  {
   "cell_type": "code",
   "execution_count": 104,
   "metadata": {},
   "outputs": [],
   "source": [
    "x = np.zeros((2, 4))"
   ]
  },
  {
   "cell_type": "code",
   "execution_count": 105,
   "metadata": {},
   "outputs": [],
   "source": [
    "x1 = sitk.GetImageFromArray(x)"
   ]
  },
  {
   "cell_type": "code",
   "execution_count": 106,
   "metadata": {},
   "outputs": [
    {
     "name": "stdout",
     "output_type": "stream",
     "text": [
      "(2, 4)\n",
      "(4, 2)\n"
     ]
    }
   ],
   "source": [
    "print(x.shape)\n",
    "print(x1.GetSize())"
   ]
  },
  {
   "cell_type": "code",
   "execution_count": 1,
   "metadata": {},
   "outputs": [],
   "source": [
    "import numpy as np"
   ]
  },
  {
   "cell_type": "code",
   "execution_count": 25,
   "metadata": {},
   "outputs": [
    {
     "data": {
      "text/plain": [
       "array([[[0., 0., 0., 0., 0.],\n",
       "        [2., 2., 2., 2., 2.],\n",
       "        [0., 0., 0., 0., 0.],\n",
       "        [0., 0., 0., 0., 0.]],\n",
       "\n",
       "       [[0., 0., 0., 0., 0.],\n",
       "        [2., 2., 2., 2., 2.],\n",
       "        [0., 0., 0., 0., 0.],\n",
       "        [0., 0., 0., 0., 0.]],\n",
       "\n",
       "       [[1., 1., 1., 1., 1.],\n",
       "        [1., 1., 1., 1., 1.],\n",
       "        [1., 1., 1., 1., 1.],\n",
       "        [0., 0., 0., 0., 0.]]])"
      ]
     },
     "execution_count": 25,
     "metadata": {},
     "output_type": "execute_result"
    }
   ],
   "source": [
    "a = np.zeros((3, 4, 5))\n",
    "a[2,:3, :] = 1\n",
    "a[:2, 1, :] = 2\n",
    "a"
   ]
  },
  {
   "cell_type": "code",
   "execution_count": 26,
   "metadata": {},
   "outputs": [],
   "source": [
    "def getCenterOfGravity(imageArray):\n",
    "    \"\"\" \n",
    "    imageArray : labelArray\n",
    "    \"\"\"\n",
    "    moment = np.where(imageArray > 0)\n",
    "    print(moment)\n",
    "    size = (imageArray > 0).sum()\n",
    "    print(size)\n",
    "    center = [m.sum() / size for m in moment]\n",
    "    return center"
   ]
  },
  {
   "cell_type": "code",
   "execution_count": 27,
   "metadata": {},
   "outputs": [
    {
     "name": "stdout",
     "output_type": "stream",
     "text": [
      "(array([0, 0, 0, 0, 0, 1, 1, 1, 1, 1, 2, 2, 2, 2, 2, 2, 2, 2, 2, 2, 2, 2,\n",
      "       2, 2, 2]), array([1, 1, 1, 1, 1, 1, 1, 1, 1, 1, 0, 0, 0, 0, 0, 1, 1, 1, 1, 1, 2, 2,\n",
      "       2, 2, 2]), array([0, 1, 2, 3, 4, 0, 1, 2, 3, 4, 0, 1, 2, 3, 4, 0, 1, 2, 3, 4, 0, 1,\n",
      "       2, 3, 4]))\n",
      "25\n"
     ]
    },
    {
     "data": {
      "text/plain": [
       "[1.4, 1.0, 2.0]"
      ]
     },
     "execution_count": 27,
     "metadata": {},
     "output_type": "execute_result"
    }
   ],
   "source": [
    "getCenterOfGravity(a)"
   ]
  },
  {
   "cell_type": "code",
   "execution_count": 5,
   "metadata": {},
   "outputs": [],
   "source": [
    "from matplotlib import pyplot as plt\n",
    "from functions import advancedSettings"
   ]
  },
  {
   "cell_type": "code",
   "execution_count": 17,
   "metadata": {},
   "outputs": [
    {
     "data": {
      "image/png": "[encoded data removed]",
      "text/plain": [
       "<Figure size 432x288 with 1 Axes>"
      ]
     },
     "metadata": {
      "needs_background": "light"
     },
     "output_type": "display_data"
    }
   ],
   "source": [
    "dice = [0.288, 0.302, 0.293]\n",
    "plt.bar([3, 5, 7], dice)\n",
    "\n",
    "advancedSettings(\"The number of channel\", \"DICE\")"
   ]
  },
  {
   "cell_type": "code",
   "execution_count": 13,
   "metadata": {},
   "outputs": [
    {
     "data": {
      "image/png": "[encoded data removed]",
      "text/plain": [
       "<Figure size 432x288 with 1 Axes>"
      ]
     },
     "metadata": {
      "needs_background": "light"
     },
     "output_type": "display_data"
    }
   ],
   "source": [
    "dice3d = [0.416, 0.497, 0.457]\n",
    "plt.bar([3, 5, 7], dice3d)\n",
    "advancedSettings(\"The number of channel\", \"DICE\")"
   ]
  },
  {
   "cell_type": "code",
   "execution_count": null,
   "metadata": {},
   "outputs": [],
   "source": []
  }
 ],
 "metadata": {
  "kernelspec": {
   "display_name": "Python 3",
   "language": "python",
   "name": "python3"
  },
  "language_info": {
   "codemirror_mode": {
    "name": "ipython",
    "version": 3
   },
   "file_extension": ".py",
   "mimetype": "text/x-python",
   "name": "python",
   "nbconvert_exporter": "python",
   "pygments_lexer": "ipython3",
   "version": "3.7.3"
  }
 },
 "nbformat": 4,
 "nbformat_minor": 4
}
